{
 "cells": [
  {
   "cell_type": "markdown",
   "metadata": {},
   "source": [
    "# The goal of this exercise is to create a model that can identify physicians (NPIs) which are cardiologists using datasets containing drug and procedure utilization."
   ]
  },
  {
   "cell_type": "markdown",
   "metadata": {},
   "source": [
    "## Dataset info"
   ]
  },
  {
   "cell_type": "markdown",
   "metadata": {},
   "source": [
    "* hcpcs_lookup.csv: list of HCPCS codes and their descriptions\n",
    "* npi_drugs.csv: list of HCPCS, drug names, and claim counts for each provider (identified by NPI)\n",
    "* npi_proc_counts.csv: list of HCPCS codes, line counts, and unique benes receiving the HCPCS codes for each provider (NPI)\n",
    "* npi_speciality.csv: this is the \"solution\" dataset containing the specialities for different providers (NPIs)"
   ]
  },
  {
   "cell_type": "markdown",
   "metadata": {},
   "source": [
    "## Step 1. Read in data and construct a dataset to be used in the analysis (address any data issues related to merging)"
   ]
  },
  {
   "cell_type": "markdown",
   "metadata": {},
   "source": [
    "### Read in the datasets and investigate potential issues"
   ]
  },
  {
   "cell_type": "code",
   "execution_count": 1,
   "metadata": {},
   "outputs": [],
   "source": [
    "# read all data into pandas data frames\n",
    "import pandas as pd\n",
    "import numpy as np\n",
    "\n",
    "# ignore depreciation warnings\n",
    "import warnings\n",
    "warnings.simplefilter(\"ignore\", category=DeprecationWarning)"
   ]
  },
  {
   "cell_type": "markdown",
   "metadata": {},
   "source": [
    "### hcpcs_lookup.csv"
   ]
  },
  {
   "cell_type": "code",
   "execution_count": 2,
   "metadata": {},
   "outputs": [
    {
     "data": {
      "text/html": [
       "<div>\n",
       "<style scoped>\n",
       "    .dataframe tbody tr th:only-of-type {\n",
       "        vertical-align: middle;\n",
       "    }\n",
       "\n",
       "    .dataframe tbody tr th {\n",
       "        vertical-align: top;\n",
       "    }\n",
       "\n",
       "    .dataframe thead th {\n",
       "        text-align: right;\n",
       "    }\n",
       "</style>\n",
       "<table border=\"1\" class=\"dataframe\">\n",
       "  <thead>\n",
       "    <tr style=\"text-align: right;\">\n",
       "      <th></th>\n",
       "      <th>HCPCS_CODE</th>\n",
       "      <th>HCPCS_DESCRIPTION</th>\n",
       "    </tr>\n",
       "  </thead>\n",
       "  <tbody>\n",
       "    <tr>\n",
       "      <th>0</th>\n",
       "      <td>00100</td>\n",
       "      <td>Anesthesia for procedure on salivary gland wit...</td>\n",
       "    </tr>\n",
       "    <tr>\n",
       "      <th>1</th>\n",
       "      <td>00103</td>\n",
       "      <td>Anesthesia for procedure on eyelid</td>\n",
       "    </tr>\n",
       "    <tr>\n",
       "      <th>2</th>\n",
       "      <td>00104</td>\n",
       "      <td>Anesthesia for electric shock treatment</td>\n",
       "    </tr>\n",
       "    <tr>\n",
       "      <th>3</th>\n",
       "      <td>00120</td>\n",
       "      <td>Anesthesia for biopsy of external middle and i...</td>\n",
       "    </tr>\n",
       "    <tr>\n",
       "      <th>4</th>\n",
       "      <td>00126</td>\n",
       "      <td>Anesthesia for incision of ear drum</td>\n",
       "    </tr>\n",
       "  </tbody>\n",
       "</table>\n",
       "</div>"
      ],
      "text/plain": [
       "  HCPCS_CODE                                  HCPCS_DESCRIPTION\n",
       "0      00100  Anesthesia for procedure on salivary gland wit...\n",
       "1      00103                 Anesthesia for procedure on eyelid\n",
       "2      00104            Anesthesia for electric shock treatment\n",
       "3      00120  Anesthesia for biopsy of external middle and i...\n",
       "4      00126                Anesthesia for incision of ear drum"
      ]
     },
     "execution_count": 2,
     "metadata": {},
     "output_type": "execute_result"
    }
   ],
   "source": [
    "hcpcs_lookup = pd.read_csv(\"hcpcs_lookup.csv\")\n",
    "hcpcs_lookup.head()"
   ]
  },
  {
   "cell_type": "code",
   "execution_count": 3,
   "metadata": {},
   "outputs": [
    {
     "data": {
      "text/plain": [
       "(5983, 2)"
      ]
     },
     "execution_count": 3,
     "metadata": {},
     "output_type": "execute_result"
    }
   ],
   "source": [
    "hcpcs_lookup.shape"
   ]
  },
  {
   "cell_type": "code",
   "execution_count": 4,
   "metadata": {},
   "outputs": [
    {
     "data": {
      "text/html": [
       "<div>\n",
       "<style scoped>\n",
       "    .dataframe tbody tr th:only-of-type {\n",
       "        vertical-align: middle;\n",
       "    }\n",
       "\n",
       "    .dataframe tbody tr th {\n",
       "        vertical-align: top;\n",
       "    }\n",
       "\n",
       "    .dataframe thead th {\n",
       "        text-align: right;\n",
       "    }\n",
       "</style>\n",
       "<table border=\"1\" class=\"dataframe\">\n",
       "  <thead>\n",
       "    <tr style=\"text-align: right;\">\n",
       "      <th></th>\n",
       "      <th>HCPCS_CODE</th>\n",
       "      <th>HCPCS_DESCRIPTION</th>\n",
       "      <th>length</th>\n",
       "    </tr>\n",
       "  </thead>\n",
       "  <tbody>\n",
       "  </tbody>\n",
       "</table>\n",
       "</div>"
      ],
      "text/plain": [
       "Empty DataFrame\n",
       "Columns: [HCPCS_CODE, HCPCS_DESCRIPTION, length]\n",
       "Index: []"
      ]
     },
     "execution_count": 4,
     "metadata": {},
     "output_type": "execute_result"
    }
   ],
   "source": [
    "# double check HCPCS lengths\n",
    "hcpcs_lookup[\"length\"] = hcpcs_lookup.apply(lambda row: len(row[\"HCPCS_CODE\"]), axis=1)\n",
    "hcpcs_lookup[hcpcs_lookup[\"length\"] != 5] # all have length 5"
   ]
  },
  {
   "cell_type": "code",
   "execution_count": 5,
   "metadata": {},
   "outputs": [],
   "source": [
    "# drop length variable\n",
    "hcpcs_lookup.drop(\"length\",axis=1,inplace=True)"
   ]
  },
  {
   "cell_type": "code",
   "execution_count": 6,
   "metadata": {},
   "outputs": [
    {
     "data": {
      "text/plain": [
       "1.0"
      ]
     },
     "execution_count": 6,
     "metadata": {},
     "output_type": "execute_result"
    }
   ],
   "source": [
    "# check to see if hcpcs_lookup dataset is unique by HCPCS_CODE\n",
    "len(hcpcs_lookup[\"HCPCS_CODE\"].unique()) / len(hcpcs_lookup.index) # unique by HCPCS code"
   ]
  },
  {
   "cell_type": "code",
   "execution_count": 7,
   "metadata": {},
   "outputs": [
    {
     "data": {
      "text/plain": [
       "HCPCS_CODE           0\n",
       "HCPCS_DESCRIPTION    0\n",
       "dtype: int64"
      ]
     },
     "execution_count": 7,
     "metadata": {},
     "output_type": "execute_result"
    }
   ],
   "source": [
    "# check for missing values\n",
    "hcpcs_lookup.isnull().sum() # no missing values"
   ]
  },
  {
   "cell_type": "code",
   "execution_count": 8,
   "metadata": {},
   "outputs": [
    {
     "name": "stdout",
     "output_type": "stream",
     "text": [
      "78414 Non-imaging determination of cardiovascular function\n",
      "78445 Non-cardiac vascular flow imaging\n",
      "82550 Creatine kinase (cardiac enzyme) level\n",
      "82552 Creatine kinase (cardiac enzyme) level\n",
      "82553 Creatine kinase (cardiac enzyme) level\n",
      "86744 Analysis for antibody to Nocardia (bacteria)\n",
      "93005 Routine electrocardiogram (EKG) with tracing using at least 12 leads\n",
      "93010 Routine electrocardiogram (EKG) using at least 12 leads with interpretation and report\n",
      "93282 Evaluation, testing, and programming adjustment of permanent single lead cardioverter-defibrillator including physician analysis, review, and report\n",
      "93283 Evaluation, testing, and programming adjustment of permanent dual lead cardioverter-defibrillator including physician analysis, review, and report\n",
      "93284 Evaluation, testing, and programming adjustment of permanent multiple lead cardioverter-defibrillator including physician analysis, review, and report\n",
      "93287 Evaluation, physician analysis, review, report, and programming adjustment of single, dual, or multiple lead cardioverter-defibrillator\n",
      "93289 Evaluation of parameters of single, dual, or multiple lead cardioverter-defibrillator including device connection, recording, and disconnection\n",
      "93290 Evaluation of parameters of single, dual, or multiple lead cardioverter-defibrillator including connection, recording, disconnection, and analysis\n",
      "93295 Remote evaluation of single, dual, or multiple lead cardioverter-defibrillator with physician analysis, review, and report up to 90 days\n",
      "93296 Remote evaluation of single, dual, or multiple lead pacemaker or cardioverter-defibrillator transmissions, technician review, support, and distribution of results up to 90 days\n",
      "93463 Drug infusion during cardiac catheterization\n",
      "93562 Subsequent cardiac output measurements\n",
      "93640 Evaluation of single or dual chamber pacing cardioverter-defibrillator at time of implantation or replacement\n",
      "93641 Evaluation of single or dual chamber pacing cardioverter-defibrillator and generator at time of implantation or replacement\n",
      "93642 Evaluation of single or dual chamber pacing cardioverter-defibrillator with programming or reprogramming\n",
      "93797 Physician services for outpatient heart cardiac rehabilitation\n",
      "A9700 Supply of injectable contrast material for use in echocardiography, per study\n",
      "G0275 Renal angiography, non-selective, one or both kidneys, performed at the same time as cardiac catheterization and/or coronary angiography, includes positioning or placement of any catheter in the abdominal aorta at or near the origins (ostia) of the renal a\n",
      "G0278 Iliac and/or femoral artery angiography, non-selective, bilateral or ipsilateral to catheter insertion, performed at the same time as cardiac catheterization and/or coronary angiography, includes positioning or placement of the catheter in the distal aorta\n",
      "G0403 Electrocardiogram, routine ecg with 12 leads; performed as a screening for the initial preventive physical examination with interpretation and report\n",
      "G0404 Electrocardiogram, routine ecg with 12 leads; tracing only, without interpretation and report, performed as a screening for the initial preventive physical examination\n",
      "G0405 Electrocardiogram, routine ecg with 12 leads; interpretation and report only, performed as a screening for the initial preventive physical examination\n",
      "G0422 Intensive cardiac rehabilitation; with or without continuous ecg monitoring with exercise, per session\n",
      "G0423 Intensive cardiac rehabilitation; with or without continuous ecg monitoring; without exercise, per session\n",
      "G0446 Annual, face-to-face intensive behavioral therapy for cardiovascular disease, individual, 15 minutes\n",
      "G9157 Transesophageal doppler use for cardiac monitoring\n"
     ]
    }
   ],
   "source": [
    "# investigate relevant HCPCS codes for cardiology (descriptions containing 'card')\n",
    "for i in range(len(hcpcs_lookup[\"HCPCS_DESCRIPTION\"])):\n",
    "    if \"card\" in hcpcs_lookup[\"HCPCS_DESCRIPTION\"][i]:\n",
    "        print(hcpcs_lookup[\"HCPCS_CODE\"][i], hcpcs_lookup[\"HCPCS_DESCRIPTION\"][i])\n",
    "# the codes below seem reasonable except for 86744\n",
    "# actually looking at the HCPCS file shows that all codes in the range 92920 - 93998 seem like they\n",
    "# could be related to cardiology"
   ]
  },
  {
   "cell_type": "code",
   "execution_count": 9,
   "metadata": {},
   "outputs": [
    {
     "name": "stdout",
     "output_type": "stream",
     "text": [
      "33508 Harvest of veins for coronary artery bypass procedure using an endoscope\n",
      "92920 Balloon dilation of narrowed or blocked major coronary artery or branch\n",
      "92924 Removal of plaque of major coronary artery or branch\n",
      "92928 Catheter insertion of stent in major coronary artery or branch\n",
      "92933 Removal of plaque and insertion of stent in major coronary artery or branch\n",
      "92937 Any combination of insertion of stent, removal of plaque and balloon dilation of coronary vessel\n",
      "92941 Any combination of insertion of stent, removal of plaque and balloon dilation of coronary vessel during heart attack\n",
      "92943 Any combination of insertion of stent, removal of plaque and balloon dilation of coronary vessel\n",
      "93024 Infusion of drug with evaluation of coronary artery spasm response\n",
      "G0275 Renal angiography, non-selective, one or both kidneys, performed at the same time as cardiac catheterization and/or coronary angiography, includes positioning or placement of any catheter in the abdominal aorta at or near the origins (ostia) of the renal a\n",
      "G0278 Iliac and/or femoral artery angiography, non-selective, bilateral or ipsilateral to catheter insertion, performed at the same time as cardiac catheterization and/or coronary angiography, includes positioning or placement of the catheter in the distal aorta\n"
     ]
    }
   ],
   "source": [
    "# look at descriptions containing 'coron'\n",
    "for i in range(len(hcpcs_lookup[\"HCPCS_DESCRIPTION\"])):\n",
    "    if \"coron\" in hcpcs_lookup[\"HCPCS_DESCRIPTION\"][i]:\n",
    "        print(hcpcs_lookup[\"HCPCS_CODE\"][i], hcpcs_lookup[\"HCPCS_DESCRIPTION\"][i])\n",
    "# the codes below seem like they are more related to a cardiac surgeon rather than a cardiologist"
   ]
  },
  {
   "cell_type": "markdown",
   "metadata": {},
   "source": [
    "### It looks like hcpcs_lookup.csv does not have data issues.  The HCPCS lists discussed above may come in handy later for feature selection."
   ]
  },
  {
   "cell_type": "markdown",
   "metadata": {},
   "source": [
    "### npi_drugs.csv"
   ]
  },
  {
   "cell_type": "code",
   "execution_count": 10,
   "metadata": {},
   "outputs": [
    {
     "data": {
      "text/html": [
       "<div>\n",
       "<style scoped>\n",
       "    .dataframe tbody tr th:only-of-type {\n",
       "        vertical-align: middle;\n",
       "    }\n",
       "\n",
       "    .dataframe tbody tr th {\n",
       "        vertical-align: top;\n",
       "    }\n",
       "\n",
       "    .dataframe thead th {\n",
       "        text-align: right;\n",
       "    }\n",
       "</style>\n",
       "<table border=\"1\" class=\"dataframe\">\n",
       "  <thead>\n",
       "    <tr style=\"text-align: right;\">\n",
       "      <th></th>\n",
       "      <th>NPI</th>\n",
       "      <th>DRUG_NAME</th>\n",
       "      <th>GENERIC_NAME</th>\n",
       "      <th>TOTAL_CLAIM_COUNT</th>\n",
       "    </tr>\n",
       "  </thead>\n",
       "  <tbody>\n",
       "    <tr>\n",
       "      <th>0</th>\n",
       "      <td>1821285826</td>\n",
       "      <td>TAMSULOSIN HCL</td>\n",
       "      <td>TAMSULOSIN HCL</td>\n",
       "      <td>12</td>\n",
       "    </tr>\n",
       "    <tr>\n",
       "      <th>1</th>\n",
       "      <td>1093969024</td>\n",
       "      <td>PANTOPRAZOLE SODIUM</td>\n",
       "      <td>PANTOPRAZOLE SODIUM</td>\n",
       "      <td>12</td>\n",
       "    </tr>\n",
       "    <tr>\n",
       "      <th>2</th>\n",
       "      <td>1518048750</td>\n",
       "      <td>VENLAFAXINE HCL ER</td>\n",
       "      <td>VENLAFAXINE HCL</td>\n",
       "      <td>12</td>\n",
       "    </tr>\n",
       "    <tr>\n",
       "      <th>3</th>\n",
       "      <td>1952310666</td>\n",
       "      <td>ABILIFY</td>\n",
       "      <td>ARIPIPRAZOLE</td>\n",
       "      <td>14</td>\n",
       "    </tr>\n",
       "    <tr>\n",
       "      <th>4</th>\n",
       "      <td>1952310666</td>\n",
       "      <td>ALENDRONATE SODIUM</td>\n",
       "      <td>ALENDRONATE SODIUM</td>\n",
       "      <td>17</td>\n",
       "    </tr>\n",
       "  </tbody>\n",
       "</table>\n",
       "</div>"
      ],
      "text/plain": [
       "          NPI            DRUG_NAME         GENERIC_NAME  TOTAL_CLAIM_COUNT\n",
       "0  1821285826       TAMSULOSIN HCL       TAMSULOSIN HCL                 12\n",
       "1  1093969024  PANTOPRAZOLE SODIUM  PANTOPRAZOLE SODIUM                 12\n",
       "2  1518048750   VENLAFAXINE HCL ER      VENLAFAXINE HCL                 12\n",
       "3  1952310666              ABILIFY         ARIPIPRAZOLE                 14\n",
       "4  1952310666   ALENDRONATE SODIUM   ALENDRONATE SODIUM                 17"
      ]
     },
     "execution_count": 10,
     "metadata": {},
     "output_type": "execute_result"
    }
   ],
   "source": [
    "npi_drugs = pd.read_csv(\"npi_drugs.csv\")\n",
    "npi_drugs.head()"
   ]
  },
  {
   "cell_type": "code",
   "execution_count": 11,
   "metadata": {},
   "outputs": [
    {
     "data": {
      "text/plain": [
       "(23650520, 4)"
      ]
     },
     "execution_count": 11,
     "metadata": {},
     "output_type": "execute_result"
    }
   ],
   "source": [
    "npi_drugs.shape"
   ]
  },
  {
   "cell_type": "code",
   "execution_count": 12,
   "metadata": {},
   "outputs": [
    {
     "data": {
      "text/html": [
       "<div>\n",
       "<style scoped>\n",
       "    .dataframe tbody tr th:only-of-type {\n",
       "        vertical-align: middle;\n",
       "    }\n",
       "\n",
       "    .dataframe tbody tr th {\n",
       "        vertical-align: top;\n",
       "    }\n",
       "\n",
       "    .dataframe thead th {\n",
       "        text-align: right;\n",
       "    }\n",
       "</style>\n",
       "<table border=\"1\" class=\"dataframe\">\n",
       "  <thead>\n",
       "    <tr style=\"text-align: right;\">\n",
       "      <th></th>\n",
       "      <th>NPI</th>\n",
       "      <th>DRUG_NAME</th>\n",
       "      <th>GENERIC_NAME</th>\n",
       "      <th>TOTAL_CLAIM_COUNT</th>\n",
       "    </tr>\n",
       "  </thead>\n",
       "  <tbody>\n",
       "  </tbody>\n",
       "</table>\n",
       "</div>"
      ],
      "text/plain": [
       "Empty DataFrame\n",
       "Columns: [NPI, DRUG_NAME, GENERIC_NAME, TOTAL_CLAIM_COUNT]\n",
       "Index: []"
      ]
     },
     "execution_count": 12,
     "metadata": {},
     "output_type": "execute_result"
    }
   ],
   "source": [
    "# check the lengths of the NPI variables (should all be 10)\n",
    "npi_drugs[(npi_drugs[\"NPI\"]/10**10 >= 1) & (npi_drugs[\"NPI\"]/10**10 < 10)] # all 10"
   ]
  },
  {
   "cell_type": "code",
   "execution_count": 13,
   "metadata": {},
   "outputs": [
    {
     "data": {
      "text/html": [
       "<div>\n",
       "<style scoped>\n",
       "    .dataframe tbody tr th:only-of-type {\n",
       "        vertical-align: middle;\n",
       "    }\n",
       "\n",
       "    .dataframe tbody tr th {\n",
       "        vertical-align: top;\n",
       "    }\n",
       "\n",
       "    .dataframe thead th {\n",
       "        text-align: right;\n",
       "    }\n",
       "</style>\n",
       "<table border=\"1\" class=\"dataframe\">\n",
       "  <thead>\n",
       "    <tr style=\"text-align: right;\">\n",
       "      <th></th>\n",
       "      <th>NPI</th>\n",
       "      <th>DRUG_NAME</th>\n",
       "      <th>GENERIC_NAME</th>\n",
       "      <th>TOTAL_CLAIM_COUNT</th>\n",
       "    </tr>\n",
       "  </thead>\n",
       "  <tbody>\n",
       "  </tbody>\n",
       "</table>\n",
       "</div>"
      ],
      "text/plain": [
       "Empty DataFrame\n",
       "Columns: [NPI, DRUG_NAME, GENERIC_NAME, TOTAL_CLAIM_COUNT]\n",
       "Index: []"
      ]
     },
     "execution_count": 13,
     "metadata": {},
     "output_type": "execute_result"
    }
   ],
   "source": [
    "# check that claim counts are all >= 0\n",
    "npi_drugs[npi_drugs[\"TOTAL_CLAIM_COUNT\"]<0] # all >= 0"
   ]
  },
  {
   "cell_type": "code",
   "execution_count": 14,
   "metadata": {},
   "outputs": [
    {
     "name": "stdout",
     "output_type": "stream",
     "text": [
      "NPI                   0\n",
      "DRUG_NAME            17\n",
      "GENERIC_NAME         17\n",
      "TOTAL_CLAIM_COUNT     0\n",
      "dtype: int64\n",
      "NPI                  0.000000e+00\n",
      "DRUG_NAME            7.188003e-07\n",
      "GENERIC_NAME         7.188003e-07\n",
      "TOTAL_CLAIM_COUNT    0.000000e+00\n",
      "dtype: float64\n"
     ]
    }
   ],
   "source": [
    "# check for missing values\n",
    "print(npi_drugs.isnull().sum())\n",
    "print(npi_drugs.isnull().sum()/len(npi_drugs)) # looks like a small number of data observations are\n",
    "                                               # missing drug name info.  Will need to drop these\n",
    "                                               # observations."
   ]
  },
  {
   "cell_type": "code",
   "execution_count": 15,
   "metadata": {},
   "outputs": [
    {
     "data": {
      "text/plain": [
       "1402"
      ]
     },
     "execution_count": 15,
     "metadata": {},
     "output_type": "execute_result"
    },
    {
     "data": {
      "image/png": "[encoded data removed]",
      "text/plain": [
       "<Figure size 432x288 with 1 Axes>"
      ]
     },
     "metadata": {},
     "output_type": "display_data"
    }
   ],
   "source": [
    "# check the count of observations per GENERIC_NAME\n",
    "%matplotlib inline\n",
    "\n",
    "vals = npi_drugs[\"GENERIC_NAME\"].value_counts(sort=True, ascending=True)\n",
    "vals[vals < 50].hist(bins=50) # a lot of the drugs show up very rarely on claims and so won't help\n",
    "                              # as variables when trying to distinguish specialities\n",
    "                              # let's remove drugs that appear on 2 or less claims\n",
    "len(vals[vals > 2])"
   ]
  },
  {
   "cell_type": "code",
   "execution_count": 16,
   "metadata": {},
   "outputs": [
    {
     "data": {
      "text/plain": [
       "0"
      ]
     },
     "execution_count": 16,
     "metadata": {},
     "output_type": "execute_result"
    }
   ],
   "source": [
    "# check if npi_drugs is unique by NPI-drug_name-generic_name\n",
    "npi_drugs_nona = npi_drugs.dropna()\n",
    "unique_npi_drugs = npi_drugs_nona.duplicated(subset=[\"NPI\",\"DRUG_NAME\",\"GENERIC_NAME\"],keep=False)\n",
    "sum(unique_npi_drugs) # not unique"
   ]
  },
  {
   "cell_type": "markdown",
   "metadata": {},
   "source": [
    "### The level of this dataset is not so important- for analysis purposes I think it's best to convert this dataset to the NPI-level with new variables that contain claim counts for each generic drug name (for generic drugs that appear on more than 2 claims) and capture provider drug prescription behavior this way.  I will also standardize the generic drug names by making them all upper case (and hopefully there are no spelling mistakes) and remove observations with missing data.  I assume here that brand names won't be useful for identifying cardiologists.  Given more time I could look into this, since drug marketers could target cardiologists differently.  In principle though, I don't think the brand name should matter.\n",
    "\n",
    "### It might also be nice to do an internet search from generic drugs commonly prescribed by cardiologists (see for example, https://intermountainhealthcare.org/-/media/files/services/heart-care/table-common-meds.pdf?la=en) to reduce the number of variables here.  I'll look into this later if I have time."
   ]
  },
  {
   "cell_type": "markdown",
   "metadata": {},
   "source": [
    "### npi_specialty.csv"
   ]
  },
  {
   "cell_type": "code",
   "execution_count": 17,
   "metadata": {},
   "outputs": [
    {
     "data": {
      "text/html": [
       "<div>\n",
       "<style scoped>\n",
       "    .dataframe tbody tr th:only-of-type {\n",
       "        vertical-align: middle;\n",
       "    }\n",
       "\n",
       "    .dataframe tbody tr th {\n",
       "        vertical-align: top;\n",
       "    }\n",
       "\n",
       "    .dataframe thead th {\n",
       "        text-align: right;\n",
       "    }\n",
       "</style>\n",
       "<table border=\"1\" class=\"dataframe\">\n",
       "  <thead>\n",
       "    <tr style=\"text-align: right;\">\n",
       "      <th></th>\n",
       "      <th>NPI</th>\n",
       "      <th>specialty</th>\n",
       "    </tr>\n",
       "  </thead>\n",
       "  <tbody>\n",
       "    <tr>\n",
       "      <th>0</th>\n",
       "      <td>1003000126</td>\n",
       "      <td>Internal Medicine</td>\n",
       "    </tr>\n",
       "    <tr>\n",
       "      <th>1</th>\n",
       "      <td>1003000134</td>\n",
       "      <td>Pathology</td>\n",
       "    </tr>\n",
       "    <tr>\n",
       "      <th>2</th>\n",
       "      <td>1003000142</td>\n",
       "      <td>Anesthesiology</td>\n",
       "    </tr>\n",
       "    <tr>\n",
       "      <th>3</th>\n",
       "      <td>1003000407</td>\n",
       "      <td>Family Practice</td>\n",
       "    </tr>\n",
       "    <tr>\n",
       "      <th>4</th>\n",
       "      <td>1003000423</td>\n",
       "      <td>Obstetrics/Gynecology</td>\n",
       "    </tr>\n",
       "  </tbody>\n",
       "</table>\n",
       "</div>"
      ],
      "text/plain": [
       "          NPI              specialty\n",
       "0  1003000126      Internal Medicine\n",
       "1  1003000134              Pathology\n",
       "2  1003000142         Anesthesiology\n",
       "3  1003000407        Family Practice\n",
       "4  1003000423  Obstetrics/Gynecology"
      ]
     },
     "execution_count": 17,
     "metadata": {},
     "output_type": "execute_result"
    }
   ],
   "source": [
    "npi_specialty = pd.read_csv(\"npi_specialty.csv\")\n",
    "npi_specialty.head()"
   ]
  },
  {
   "cell_type": "code",
   "execution_count": 18,
   "metadata": {},
   "outputs": [
    {
     "data": {
      "text/plain": [
       "(909605, 2)"
      ]
     },
     "execution_count": 18,
     "metadata": {},
     "output_type": "execute_result"
    }
   ],
   "source": [
    "npi_specialty.shape"
   ]
  },
  {
   "cell_type": "code",
   "execution_count": 19,
   "metadata": {},
   "outputs": [
    {
     "data": {
      "text/html": [
       "<div>\n",
       "<style scoped>\n",
       "    .dataframe tbody tr th:only-of-type {\n",
       "        vertical-align: middle;\n",
       "    }\n",
       "\n",
       "    .dataframe tbody tr th {\n",
       "        vertical-align: top;\n",
       "    }\n",
       "\n",
       "    .dataframe thead th {\n",
       "        text-align: right;\n",
       "    }\n",
       "</style>\n",
       "<table border=\"1\" class=\"dataframe\">\n",
       "  <thead>\n",
       "    <tr style=\"text-align: right;\">\n",
       "      <th></th>\n",
       "      <th>NPI</th>\n",
       "      <th>specialty</th>\n",
       "    </tr>\n",
       "  </thead>\n",
       "  <tbody>\n",
       "  </tbody>\n",
       "</table>\n",
       "</div>"
      ],
      "text/plain": [
       "Empty DataFrame\n",
       "Columns: [NPI, specialty]\n",
       "Index: []"
      ]
     },
     "execution_count": 19,
     "metadata": {},
     "output_type": "execute_result"
    }
   ],
   "source": [
    "# check the lengths of the NPI variables (should all be 10)\n",
    "npi_specialty[(npi_specialty[\"NPI\"]/10**10 >= 1) & (npi_specialty[\"NPI\"]/10**10 < 10)] # all 10"
   ]
  },
  {
   "cell_type": "code",
   "execution_count": 20,
   "metadata": {},
   "outputs": [
    {
     "data": {
      "text/plain": [
       "1.0"
      ]
     },
     "execution_count": 20,
     "metadata": {},
     "output_type": "execute_result"
    }
   ],
   "source": [
    "# check if npi_specialty is unique by NPI\n",
    "len(npi_specialty[\"NPI\"].unique()) / len(npi_specialty.index) # unique"
   ]
  },
  {
   "cell_type": "code",
   "execution_count": 21,
   "metadata": {},
   "outputs": [
    {
     "name": "stdout",
     "output_type": "stream",
     "text": [
      "NPI          0\n",
      "specialty    0\n",
      "dtype: int64\n"
     ]
    }
   ],
   "source": [
    "# check for missing values\n",
    "print(npi_specialty.isnull().sum())"
   ]
  },
  {
   "cell_type": "code",
   "execution_count": 22,
   "metadata": {},
   "outputs": [
    {
     "name": "stdout",
     "output_type": "stream",
     "text": [
      "['Addiction Medicine', 'All Other Suppliers', 'Allergy/Immunology', 'Ambulance Service Supplier', 'Ambulatory Surgical Center', 'Anesthesiologist Assistants', 'Anesthesiology', 'Audiologist (billing independently)', 'CRNA', 'Cardiac Electrophysiology', 'Cardiac Surgery', 'Cardiology', 'Centralized Flu', 'Certified Clinical Nurse Specialist', 'Certified Nurse Midwife', 'Chiropractic', 'Clinical Laboratory', 'Clinical Psychologist', 'Colorectal Surgery (formerly proctology)', 'Critical Care (Intensivists)', 'Dermatology', 'Diagnostic Radiology', 'Emergency Medicine', 'Endocrinology', 'Family Practice', 'Gastroenterology', 'General Practice', 'General Surgery', 'Geriatric Medicine', 'Geriatric Psychiatry', 'Gynecological/Oncology', 'Hand Surgery', 'Hematology', 'Hematology/Oncology', 'Hospice and Palliative Care', 'Independent Diagnostic Testing Facility', 'Infectious Disease', 'Internal Medicine', 'Interventional Pain Management', 'Interventional Radiology', 'Licensed Clinical Social Worker', 'Mammographic Screening Center', 'Mass Immunization Roster Biller', 'Maxillofacial Surgery', 'Medical Oncology', 'Multispecialty Clinic/Group Practice', 'Nephrology', 'Neurology', 'Neuropsychiatry', 'Neurosurgery', 'Nuclear Medicine', 'Nurse Practitioner', 'Obstetrics/Gynecology', 'Occupational therapist', 'Ophthalmology', 'Optometry', 'Oral Surgery (dentists only)', 'Orthopedic Surgery', 'Osteopathic Manipulative Medicine', 'Otolaryngology', 'Pain Management', 'Pathology', 'Pediatric Medicine', 'Peripheral Vascular Disease', 'Pharmacy', 'Physical Medicine and Rehabilitation', 'Physical Therapist', 'Physician Assistant', 'Plastic and Reconstructive Surgery', 'Podiatry', 'Portable X-ray', 'Preventive Medicine', 'Psychiatry', 'Psychologist (billing independently)', 'Public Health Welfare Agency', 'Pulmonary Disease', 'Radiation Oncology', 'Radiation Therapy', 'Registered Dietician/Nutrition Professional', 'Rheumatology', 'Sleep Medicine', 'Slide Preparation Facility', 'Speech Language Pathologist', 'Sports Medicine', 'Surgical Oncology', 'Thoracic Surgery', 'Unknown Physician Specialty Code', 'Unknown Supplier/Provider', 'Urology', 'Vascular Surgery']\n"
     ]
    }
   ],
   "source": [
    "# check for cardiologist specialty\n",
    "print(sorted(npi_specialty[\"specialty\"].unique())) # shows up as 'Cardiology'"
   ]
  },
  {
   "cell_type": "markdown",
   "metadata": {},
   "source": [
    "### It looks like the npi_specialty dataset does not need much processing.  I will just enforce that the specialties are all uppercase to keep everything uniform."
   ]
  },
  {
   "cell_type": "markdown",
   "metadata": {},
   "source": [
    "### npi_proc_counts.csv"
   ]
  },
  {
   "cell_type": "code",
   "execution_count": 23,
   "metadata": {
    "scrolled": true
   },
   "outputs": [
    {
     "data": {
      "text/html": [
       "<div>\n",
       "<style scoped>\n",
       "    .dataframe tbody tr th:only-of-type {\n",
       "        vertical-align: middle;\n",
       "    }\n",
       "\n",
       "    .dataframe tbody tr th {\n",
       "        vertical-align: top;\n",
       "    }\n",
       "\n",
       "    .dataframe thead th {\n",
       "        text-align: right;\n",
       "    }\n",
       "</style>\n",
       "<table border=\"1\" class=\"dataframe\">\n",
       "  <thead>\n",
       "    <tr style=\"text-align: right;\">\n",
       "      <th></th>\n",
       "      <th>NPI</th>\n",
       "      <th>HCPCS_CODE</th>\n",
       "      <th>LINE_SRVC_CNT</th>\n",
       "      <th>BENE_UNIQUE_CNT</th>\n",
       "    </tr>\n",
       "  </thead>\n",
       "  <tbody>\n",
       "    <tr>\n",
       "      <th>0</th>\n",
       "      <td>1003000126</td>\n",
       "      <td>99222</td>\n",
       "      <td>142</td>\n",
       "      <td>138</td>\n",
       "    </tr>\n",
       "    <tr>\n",
       "      <th>1</th>\n",
       "      <td>1003000126</td>\n",
       "      <td>99223</td>\n",
       "      <td>96</td>\n",
       "      <td>95</td>\n",
       "    </tr>\n",
       "    <tr>\n",
       "      <th>2</th>\n",
       "      <td>1003000126</td>\n",
       "      <td>99231</td>\n",
       "      <td>61</td>\n",
       "      <td>47</td>\n",
       "    </tr>\n",
       "    <tr>\n",
       "      <th>3</th>\n",
       "      <td>1003000126</td>\n",
       "      <td>99232</td>\n",
       "      <td>777</td>\n",
       "      <td>381</td>\n",
       "    </tr>\n",
       "    <tr>\n",
       "      <th>4</th>\n",
       "      <td>1003000126</td>\n",
       "      <td>99233</td>\n",
       "      <td>170</td>\n",
       "      <td>106</td>\n",
       "    </tr>\n",
       "  </tbody>\n",
       "</table>\n",
       "</div>"
      ],
      "text/plain": [
       "          NPI HCPCS_CODE  LINE_SRVC_CNT  BENE_UNIQUE_CNT\n",
       "0  1003000126      99222            142              138\n",
       "1  1003000126      99223             96               95\n",
       "2  1003000126      99231             61               47\n",
       "3  1003000126      99232            777              381\n",
       "4  1003000126      99233            170              106"
      ]
     },
     "execution_count": 23,
     "metadata": {},
     "output_type": "execute_result"
    }
   ],
   "source": [
    "npi_proc_counts = pd.read_csv(\"npi_proc_counts.csv\")\n",
    "npi_proc_counts.head()"
   ]
  },
  {
   "cell_type": "code",
   "execution_count": 24,
   "metadata": {},
   "outputs": [
    {
     "data": {
      "text/plain": [
       "(9287876, 4)"
      ]
     },
     "execution_count": 24,
     "metadata": {},
     "output_type": "execute_result"
    }
   ],
   "source": [
    "npi_proc_counts.shape"
   ]
  },
  {
   "cell_type": "code",
   "execution_count": 25,
   "metadata": {},
   "outputs": [],
   "source": [
    "# check HCPCS code lengths\n",
    "npi_proc_counts[\"length\"] = npi_proc_counts.apply(lambda row: len(row[\"HCPCS_CODE\"]), axis=1)\n",
    "npi_proc_counts[npi_proc_counts[\"length\"]!=5] # looks like HCPCS codes all have the right length\n",
    "npi_proc_counts.drop(\"length\",axis=1,inplace=True)"
   ]
  },
  {
   "cell_type": "code",
   "execution_count": 26,
   "metadata": {},
   "outputs": [
    {
     "data": {
      "text/html": [
       "<div>\n",
       "<style scoped>\n",
       "    .dataframe tbody tr th:only-of-type {\n",
       "        vertical-align: middle;\n",
       "    }\n",
       "\n",
       "    .dataframe tbody tr th {\n",
       "        vertical-align: top;\n",
       "    }\n",
       "\n",
       "    .dataframe thead th {\n",
       "        text-align: right;\n",
       "    }\n",
       "</style>\n",
       "<table border=\"1\" class=\"dataframe\">\n",
       "  <thead>\n",
       "    <tr style=\"text-align: right;\">\n",
       "      <th></th>\n",
       "      <th>NPI</th>\n",
       "      <th>HCPCS_CODE</th>\n",
       "      <th>LINE_SRVC_CNT</th>\n",
       "      <th>BENE_UNIQUE_CNT</th>\n",
       "    </tr>\n",
       "  </thead>\n",
       "  <tbody>\n",
       "  </tbody>\n",
       "</table>\n",
       "</div>"
      ],
      "text/plain": [
       "Empty DataFrame\n",
       "Columns: [NPI, HCPCS_CODE, LINE_SRVC_CNT, BENE_UNIQUE_CNT]\n",
       "Index: []"
      ]
     },
     "execution_count": 26,
     "metadata": {},
     "output_type": "execute_result"
    }
   ],
   "source": [
    "# check the lengths of the NPI variables (should all be 10)\n",
    "npi_proc_counts[(npi_proc_counts[\"NPI\"]/10**10 >= 1) & (npi_proc_counts[\"NPI\"]/10**10 < 10)] # all 10"
   ]
  },
  {
   "cell_type": "code",
   "execution_count": 27,
   "metadata": {},
   "outputs": [
    {
     "name": "stdout",
     "output_type": "stream",
     "text": [
      "NPI                0\n",
      "HCPCS_CODE         0\n",
      "LINE_SRVC_CNT      0\n",
      "BENE_UNIQUE_CNT    0\n",
      "dtype: int64\n"
     ]
    }
   ],
   "source": [
    "# check for missing values\n",
    "print(npi_proc_counts.isnull().sum()) # no missing values"
   ]
  },
  {
   "cell_type": "code",
   "execution_count": 28,
   "metadata": {},
   "outputs": [
    {
     "data": {
      "text/html": [
       "<div>\n",
       "<style scoped>\n",
       "    .dataframe tbody tr th:only-of-type {\n",
       "        vertical-align: middle;\n",
       "    }\n",
       "\n",
       "    .dataframe tbody tr th {\n",
       "        vertical-align: top;\n",
       "    }\n",
       "\n",
       "    .dataframe thead th {\n",
       "        text-align: right;\n",
       "    }\n",
       "</style>\n",
       "<table border=\"1\" class=\"dataframe\">\n",
       "  <thead>\n",
       "    <tr style=\"text-align: right;\">\n",
       "      <th></th>\n",
       "      <th>NPI</th>\n",
       "      <th>HCPCS_CODE</th>\n",
       "      <th>LINE_SRVC_CNT</th>\n",
       "      <th>BENE_UNIQUE_CNT</th>\n",
       "    </tr>\n",
       "  </thead>\n",
       "  <tbody>\n",
       "  </tbody>\n",
       "</table>\n",
       "</div>"
      ],
      "text/plain": [
       "Empty DataFrame\n",
       "Columns: [NPI, HCPCS_CODE, LINE_SRVC_CNT, BENE_UNIQUE_CNT]\n",
       "Index: []"
      ]
     },
     "execution_count": 28,
     "metadata": {},
     "output_type": "execute_result"
    }
   ],
   "source": [
    "# check that line counts are >= 1\n",
    "npi_proc_counts[npi_proc_counts[\"LINE_SRVC_CNT\"]<1] # all >= 1"
   ]
  },
  {
   "cell_type": "code",
   "execution_count": 29,
   "metadata": {},
   "outputs": [
    {
     "data": {
      "text/html": [
       "<div>\n",
       "<style scoped>\n",
       "    .dataframe tbody tr th:only-of-type {\n",
       "        vertical-align: middle;\n",
       "    }\n",
       "\n",
       "    .dataframe tbody tr th {\n",
       "        vertical-align: top;\n",
       "    }\n",
       "\n",
       "    .dataframe thead th {\n",
       "        text-align: right;\n",
       "    }\n",
       "</style>\n",
       "<table border=\"1\" class=\"dataframe\">\n",
       "  <thead>\n",
       "    <tr style=\"text-align: right;\">\n",
       "      <th></th>\n",
       "      <th>NPI</th>\n",
       "      <th>HCPCS_CODE</th>\n",
       "      <th>LINE_SRVC_CNT</th>\n",
       "      <th>BENE_UNIQUE_CNT</th>\n",
       "    </tr>\n",
       "  </thead>\n",
       "  <tbody>\n",
       "  </tbody>\n",
       "</table>\n",
       "</div>"
      ],
      "text/plain": [
       "Empty DataFrame\n",
       "Columns: [NPI, HCPCS_CODE, LINE_SRVC_CNT, BENE_UNIQUE_CNT]\n",
       "Index: []"
      ]
     },
     "execution_count": 29,
     "metadata": {},
     "output_type": "execute_result"
    }
   ],
   "source": [
    "# check that bene counts are >= 1\n",
    "npi_proc_counts[npi_proc_counts[\"BENE_UNIQUE_CNT\"]<1] # all >= 1"
   ]
  },
  {
   "cell_type": "code",
   "execution_count": 30,
   "metadata": {},
   "outputs": [
    {
     "data": {
      "text/plain": [
       "541794"
      ]
     },
     "execution_count": 30,
     "metadata": {},
     "output_type": "execute_result"
    }
   ],
   "source": [
    "# check to see if npi_proc_counts is unique by NPI-HCPCS_code\n",
    "unique_npi_hcpcs = npi_proc_counts.duplicated(subset=[\"NPI\",\"HCPCS_CODE\"],keep=False)\n",
    "sum(unique_npi_hcpcs) # not unique"
   ]
  },
  {
   "cell_type": "code",
   "execution_count": 31,
   "metadata": {},
   "outputs": [
    {
     "name": "stdout",
     "output_type": "stream",
     "text": [
      "541794\n",
      "            NPI HCPCS_CODE  LINE_SRVC_CNT  BENE_UNIQUE_CNT\n",
      "114  1003000936      93306            137              135\n",
      "115  1003000936      93306             30               30\n",
      "121  1003000936      99213             34               33\n",
      "122  1003000936      99213             41               37\n",
      "123  1003000936      99214            104               98\n",
      "124  1003000936      99214             90               75\n",
      "191  1003001462      77263             29               26\n",
      "192  1003001462      77263             20               20\n",
      "194  1003001462      77290             48               27\n",
      "195  1003001462      77290             13               13\n",
      "196  1003001462      77300            169               28\n",
      "197  1003001462      77300            285               35\n",
      "202  1003001462      77334             80               27\n",
      "203  1003001462      77334             16               14\n",
      "208  1003001462      77427             60               17\n",
      "209  1003001462      77427            256               86\n",
      "211  1003001462      99204             13               13\n",
      "212  1003001462      99204             11               11\n",
      "213  1003001462      99213             17               14\n",
      "214  1003001462      99213             37               37\n"
     ]
    }
   ],
   "source": [
    "# look into non-unique values\n",
    "non_unique = npi_proc_counts[npi_proc_counts[[\"NPI\",\"HCPCS_CODE\"]].duplicated(keep=False)]\n",
    "print(len(non_unique))\n",
    "print(non_unique.head(20)) # looks like a lot of providers are reporting the same HCPCS codes twice\n",
    "                           # in this dataset. \n",
    "# It could be that one of this entries is incorrect and the other \n",
    "# is correct, or that the lines and benes should be summed over the duplicate NPI-HCPCS_CODE pairs.\n",
    "# It would be nice if these entries had dates on them to help determine if some values are more \n",
    "# updated (or if I could reference the raw claims data).  For now I will assume that the entry \n",
    "# with a larger number of lines is more updated, and drop the other entries."
   ]
  },
  {
   "cell_type": "markdown",
   "metadata": {},
   "source": [
    "### It looks like variables in this dataset are non-missing and formatted properly.  I plan to process this data by deduping the NPI-HCPCS_CODE observations by taking the row with the largest LINE_SRVC_CNT.  Initially my plan also was to create a dataset that was unique by NPI and had a variable describing lines/bene for each HCPCS code.  However, creating this dataset will cause memory problems on my personal computer.  This is too bad, since I was interested in seeing how well different variable selection techniques identified the important variables (but this would also run slowly).\n",
    "\n",
    "### Instead I will use HCPCS codes identified from the hcpcs_lookup dataset to subset the npi_proc_counts dataset to HCPCS codes that are related to cardiology.  (Note that in doing so I will not be making use of the drugs which do not have cardiology-related desciptions.)  When picking a list of HCPCS codes, ideally one would do more research (online or by looking at actual claims) or consult with a cardiologist.  I will also experiment with keeping a randomly selected set of the other HCPCS variables since I am not very confident in my determination of cardiology HCPCS codes and since I might be missing some HCPCS codes that cardiologists don't use but other providers commonly use (which could also be useful variables).  I also would like to see how the machine learning algorithm chooses the variables, at least in one model.  \n",
    "\n",
    "### Note that I have not been searching for outliers.  Generally data like this (that is tied to payment) is pretty accurate.  Also it would be hard for me to judge if values are true outliers without having more context."
   ]
  },
  {
   "cell_type": "code",
   "execution_count": 32,
   "metadata": {},
   "outputs": [
    {
     "name": "stdout",
     "output_type": "stream",
     "text": [
      "909605\n",
      "5983\n"
     ]
    }
   ],
   "source": [
    "print(len(npi_proc_counts[\"NPI\"].unique()))\n",
    "print(len(npi_proc_counts[\"HCPCS_CODE\"].unique())) # results in a ~ 3 GB dataframe"
   ]
  },
  {
   "cell_type": "markdown",
   "metadata": {},
   "source": [
    "### generic_drugs.csv\n",
    "This list of generic drugs is created from the drugs listed here: https://intermountainhealthcare.org/-/media/files/services/heart-care/table-common-meds.pdf?la=en, removing some drugs which are related to things like pain management which probably a lot of different types of providers use."
   ]
  },
  {
   "cell_type": "code",
   "execution_count": 33,
   "metadata": {},
   "outputs": [
    {
     "data": {
      "text/html": [
       "<div>\n",
       "<style scoped>\n",
       "    .dataframe tbody tr th:only-of-type {\n",
       "        vertical-align: middle;\n",
       "    }\n",
       "\n",
       "    .dataframe tbody tr th {\n",
       "        vertical-align: top;\n",
       "    }\n",
       "\n",
       "    .dataframe thead th {\n",
       "        text-align: right;\n",
       "    }\n",
       "</style>\n",
       "<table border=\"1\" class=\"dataframe\">\n",
       "  <thead>\n",
       "    <tr style=\"text-align: right;\">\n",
       "      <th></th>\n",
       "      <th>GENERIC_NAME</th>\n",
       "    </tr>\n",
       "  </thead>\n",
       "  <tbody>\n",
       "    <tr>\n",
       "      <th>0</th>\n",
       "      <td>benazepril</td>\n",
       "    </tr>\n",
       "    <tr>\n",
       "      <th>1</th>\n",
       "      <td>captopril</td>\n",
       "    </tr>\n",
       "    <tr>\n",
       "      <th>2</th>\n",
       "      <td>enalapril maleate</td>\n",
       "    </tr>\n",
       "    <tr>\n",
       "      <th>3</th>\n",
       "      <td>lisinopril</td>\n",
       "    </tr>\n",
       "    <tr>\n",
       "      <th>4</th>\n",
       "      <td>quinapril</td>\n",
       "    </tr>\n",
       "  </tbody>\n",
       "</table>\n",
       "</div>"
      ],
      "text/plain": [
       "        GENERIC_NAME\n",
       "0         benazepril\n",
       "1          captopril\n",
       "2  enalapril maleate\n",
       "3         lisinopril\n",
       "4          quinapril"
      ]
     },
     "execution_count": 33,
     "metadata": {},
     "output_type": "execute_result"
    }
   ],
   "source": [
    "generic_drugs = pd.read_csv(\"generic_drugs.csv\")\n",
    "generic_drugs.head()"
   ]
  },
  {
   "cell_type": "code",
   "execution_count": 34,
   "metadata": {},
   "outputs": [
    {
     "data": {
      "text/plain": [
       "(96, 1)"
      ]
     },
     "execution_count": 34,
     "metadata": {},
     "output_type": "execute_result"
    }
   ],
   "source": [
    "generic_drugs.shape"
   ]
  },
  {
   "cell_type": "code",
   "execution_count": 35,
   "metadata": {},
   "outputs": [
    {
     "data": {
      "text/plain": [
       "62"
      ]
     },
     "execution_count": 35,
     "metadata": {},
     "output_type": "execute_result"
    }
   ],
   "source": [
    "# check overlap with the npi_drugs dataset\n",
    "card_drugs = generic_drugs[\"GENERIC_NAME\"]\n",
    "card_drugs = card_drugs.apply(lambda x: str(x).upper())\n",
    "all_drugs = pd.Series(npi_drugs[\"GENERIC_NAME\"].unique())\n",
    "all_drugs = all_drugs.apply(lambda x: str(x).upper())\n",
    "drugs_in_both = pd.Series(list(set(all_drugs).intersection(set(card_drugs))))\n",
    "len(drugs_in_both)"
   ]
  },
  {
   "cell_type": "markdown",
   "metadata": {},
   "source": [
    "### I will use only these drugs (and perhaps a small randomly selected subset of the other drugs at first, to see if it is beneficial) when processing the npi_drugs dataset.  Like in the npi_proc_counts dataset, it is important to reduce the variables in the npi_drugs dataset to reduce memory usage and build better models which can run faster."
   ]
  },
  {
   "cell_type": "markdown",
   "metadata": {},
   "source": [
    "### Now merge data together to create analysis dataset.  All future data will need to be processed through the following steps to create the analysis dataset."
   ]
  },
  {
   "cell_type": "code",
   "execution_count": 36,
   "metadata": {},
   "outputs": [],
   "source": [
    "# create functions to process each dataset and then merge them to create an analysis dataset that is\n",
    "# unique at the NPI level\n",
    "\n",
    "##################################################################################################\n",
    "\n",
    "# import modules\n",
    "import pandas as pd\n",
    "import numpy as np\n",
    "import random\n",
    "\n",
    "def get_and_clean_data(Nrand,reduce_vars):\n",
    "\n",
    "    ##################################################################################################\n",
    "\n",
    "    # hcpcs_lookup file needs no processesing.  It was unique by HCPCS_CODE and all HCPCS_CODEs were 5 \n",
    "    # digits\n",
    "\n",
    "    # instead obtain list of (hopefully) cardiology-related HCPCS codes below\n",
    "\n",
    "    ##################################################################################################\n",
    "\n",
    "    # process npi_drugs file\n",
    "    # drop observations with missing data\n",
    "    # drop observations for generic drugs that only appear on 1 or 2 claims\n",
    "    # drop observations with generic drops not in the cardiology drug list\n",
    "    # create a dataset that is unique at the NPI level, and include claim count variables for each\n",
    "    # generic_name variable\n",
    "\n",
    "    def process_npi_drugs(data,card_drugs,Nrand):\n",
    "        # drop observations with missing data\n",
    "        data.dropna(inplace=True)\n",
    "\n",
    "        # drop observations for generic drugs that only appear on 1 or 2 claims\n",
    "        vals = data[\"GENERIC_NAME\"].value_counts()\n",
    "        vals = pd.DataFrame(vals).reset_index()\n",
    "        vals.columns = [\"GENERIC_NAME\",\"COUNT\"]\n",
    "        common_drugs = vals[vals[\"COUNT\"] > 2][\"GENERIC_NAME\"]   \n",
    "        data = data[data[\"GENERIC_NAME\"].isin(common_drugs)]\n",
    "\n",
    "        # only keep observations with generic drugs in the list\n",
    "        # also keep 100 other randomly selected drugs\n",
    "        all_drugs = data[\"GENERIC_NAME\"].unique()\n",
    "        noncard_drugs = [name for name in all_drugs if name not in card_drugs]\n",
    "        random.seed(2)\n",
    "        random_drugs = random.sample(noncard_drugs,Nrand)\n",
    "        final_drugs = list(card_drugs) + random_drugs\n",
    "        data = data[data[\"GENERIC_NAME\"].isin(final_drugs)]\n",
    "\n",
    "        # sum claim counts\n",
    "        # note this might overcount some if two different brands are reported on the same\n",
    "        # claim, but hopefully this is rare\n",
    "        data = data.groupby(by=[\"NPI\",\"GENERIC_NAME\"]).agg({\"TOTAL_CLAIM_COUNT\": np.sum})\n",
    "        data.reset_index(level=[\"NPI\",\"GENERIC_NAME\"],inplace=True)\n",
    "\n",
    "        # make sure all drug names are uppercase\n",
    "        data[\"GENERIC_NAME\"] = data[\"GENERIC_NAME\"].apply(lambda x: str(x).upper())\n",
    "\n",
    "        # create variables containing claim counts for each generic drug name at the NPI level\n",
    "        data = data.pivot(index='NPI', columns='GENERIC_NAME', values='TOTAL_CLAIM_COUNT')\n",
    "        data.reset_index(level=[\"NPI\"],inplace=True)\n",
    "        data.fillna(0,inplace=True)\n",
    "\n",
    "        return data\n",
    "\n",
    "    ##################################################################################################\n",
    "\n",
    "    # process npi_specialty file by formatting the specialty variable to all uppercase\n",
    "\n",
    "    def process_npi_specialty(data):\n",
    "        # make sure all specialty titles are uppercase\n",
    "        data[\"specialty\"] = data[\"specialty\"].apply(lambda x: str(x).upper())\n",
    "        return data\n",
    "\n",
    "    ##################################################################################################\n",
    "\n",
    "    # process npi_proc_counts file\n",
    "    # create 5-digit HCPCS_CODE variable by padding with leading zeros (just in case)\n",
    "    # collapse data to NPI-HCPCS_CODE level by taking the entry with the largest number of lines\n",
    "    # reduce dataset to NPI level by creating a variable describing the lines/bene for each HCPCS_CODE\n",
    "\n",
    "    def process_npi_proc_counts(data,card_hcpcs,Nrand):\n",
    "\n",
    "        # only keep observations with hcpcs on the hcpcs list\n",
    "        # also keep 100 other randomly selected hcpcs\n",
    "        all_hcpcs = data[\"HCPCS_CODE\"].unique()\n",
    "        noncard_hcpcs = [hcpcs for hcpcs in all_hcpcs if hcpcs not in card_hcpcs]\n",
    "        random.seed(3)\n",
    "        random_hcpcs = random.sample(noncard_hcpcs,Nrand)\n",
    "        final_hcpcs = card_hcpcs + random_hcpcs\n",
    "        data = data[data[\"HCPCS_CODE\"].isin(final_hcpcs)]\n",
    "\n",
    "        # identify and dedupe the duplicate rows by NPI-HCPCS_CODE, keeping entry with largest line \n",
    "        # counts\n",
    "        dups = data[data[[\"NPI\",\"HCPCS_CODE\"]].duplicated(keep=False)]\n",
    "        dups = dups.sort_values([\"NPI\",\"HCPCS_CODE\",\"LINE_SRVC_CNT\"],ascending=[0,0,0])\n",
    "        deduped = dups.drop_duplicates(subset=[\"NPI\",\"HCPCS_CODE\"],keep='first')\n",
    "\n",
    "        # stack deduped dataset and original non-duplicated dataset\n",
    "        no_dups = data.drop_duplicates(subset=[\"NPI\",\"HCPCS_CODE\"],keep=False)\n",
    "        data = pd.concat([no_dups,deduped])\n",
    "\n",
    "        # create line per bene variable\n",
    "        data[\"LINES_PER_BENE\"] = data[\"LINE_SRVC_CNT\"] / data[\"BENE_UNIQUE_CNT\"]\n",
    "\n",
    "        # drop BENE_UNIQUE_CNT and LINE_SRVC_CNT variables\n",
    "        data.drop(columns=[\"BENE_UNIQUE_CNT\",\"LINE_SRVC_CNT\"],inplace=True)\n",
    "\n",
    "        # aggregrate to NPI level by creating lines/bene variables for each HCPCS code\n",
    "        data = data.pivot(index=\"NPI\", columns=\"HCPCS_CODE\", values=\"LINES_PER_BENE\")\n",
    "        data.reset_index(level=[\"NPI\"],inplace=True)\n",
    "        data.fillna(0,inplace=True)\n",
    "\n",
    "        return data\n",
    "\n",
    "    ########################\n",
    "\n",
    "    def process_npi_proc_counts_v2(data):\n",
    "\n",
    "        # only keep observations with hcpcs in range 92920 - 93998\n",
    "        data = data[(data[\"HCPCS_CODE\"] <= \"93998\") & (data[\"HCPCS_CODE\"] >= \"92920\")]\n",
    "\n",
    "        # identify and dedupe the duplicate rows by NPI-HCPCS_CODE, keeping entry with largest line \n",
    "        # counts \n",
    "        dups = data[data[[\"NPI\",\"HCPCS_CODE\"]].duplicated(keep=False)]\n",
    "        dups = dups.sort_values([\"NPI\",\"HCPCS_CODE\",\"LINE_SRVC_CNT\"],ascending=[0,0,0])\n",
    "        deduped = dups.drop_duplicates(subset=[\"NPI\",\"HCPCS_CODE\"],keep='first')\n",
    "\n",
    "        # stack deduped dataset and original non-duplicated dataset\n",
    "        no_dups = data.drop_duplicates(subset=[\"NPI\",\"HCPCS_CODE\"],keep=False)\n",
    "        data = pd.concat([no_dups,deduped])\n",
    "\n",
    "        # group data by first three digits of HCPCS_CODE\n",
    "        data[\"HCPCS_CODE_3\"] = data[\"HCPCS_CODE\"].apply(lambda x: x[:3])\n",
    "        data = data.groupby(by=[\"NPI\",\"HCPCS_CODE_3\"]).agg({\"LINE_SRVC_CNT\":np.sum, \"BENE_UNIQUE_CNT\":np.sum})\n",
    "        data.reset_index(level=[\"NPI\",\"HCPCS_CODE_3\"],inplace=True)\n",
    "\n",
    "        # create line per bene variable\n",
    "        data[\"LINES_PER_BENE\"] = data[\"LINE_SRVC_CNT\"] / data[\"BENE_UNIQUE_CNT\"]\n",
    "\n",
    "        # drop BENE_UNIQUE_CNT and LINE_SRVC_CNT variables\n",
    "        data.drop(columns=[\"BENE_UNIQUE_CNT\",\"LINE_SRVC_CNT\"],inplace=True)\n",
    "\n",
    "        # aggregrate to NPI level by creating lines/bene variables for each HCPCS code\n",
    "        data = data.pivot(index=\"NPI\", columns=\"HCPCS_CODE_3\", values=\"LINES_PER_BENE\")\n",
    "        data.reset_index(level=[\"NPI\"],inplace=True)\n",
    "        data.fillna(0,inplace=True)\n",
    "\n",
    "        return data    \n",
    "    \n",
    "    ##################################################################################################\n",
    "\n",
    "    # read in data\n",
    "    hcpcs_lookup = pd.read_csv(\"hcpcs_lookup.csv\")\n",
    "    npi_drugs = pd.read_csv(\"npi_drugs.csv\")\n",
    "    npi_specialty = pd.read_csv(\"npi_specialty.csv\")\n",
    "    npi_proc_counts = pd.read_csv(\"npi_proc_counts.csv\")\n",
    "    generic_drugs = pd.read_csv(\"generic_drugs.csv\")\n",
    "\n",
    "    ##################################################################################################\n",
    "\n",
    "    # obtain cardiology HCPCS and generic drug names, and process data\n",
    "\n",
    "    # cardicac HCPCS\n",
    "    card_hcpcs = []\n",
    "    for i in range(len(hcpcs_lookup[\"HCPCS_DESCRIPTION\"])):\n",
    "        if \"card\" in hcpcs_lookup[\"HCPCS_DESCRIPTION\"][i] and hcpcs_lookup[\"HCPCS_CODE\"][i] != \"86744\":\n",
    "            card_hcpcs.append(hcpcs_lookup[\"HCPCS_CODE\"][i])\n",
    "\n",
    "    # cardiac drugs   \n",
    "    if reduce_vars == 1:\n",
    "        # use only cardiology drugs identified as important by first boosted decision tree\n",
    "        card_drugs = ['AMLODIPINE BESYLATE', 'ATORVASTATIN CALCIUM',\n",
    "       'BECLOMETHASONE DIPROPIONATE', 'CARVEDILOL', 'CEPHALEXIN',\n",
    "       'CLONIDINE HCL', 'DESVENLAFAXINE SUCCINATE', 'DIGOXIN', 'DOFETILIDE',\n",
    "       'DOXAZOSIN MESYLATE', 'EPLERENONE', 'FESOTERODINE FUMARATE',\n",
    "       'FLECAINIDE ACETATE', 'FUROSEMIDE', 'GEMFIBROZIL',\n",
    "       'HYDROCHLOROTHIAZIDE', 'LEVETIRACETAM', 'LISINOPRIL', 'LOVASTATIN',\n",
    "       'METOPROLOL SUCCINATE', 'METOPROLOL TARTRATE', 'NITROGLYCERIN',\n",
    "       'PROPAFENONE HCL', 'PROPRANOLOL HCL', 'RIVASTIGMINE TARTRATE',\n",
    "       'SIMVASTATIN', 'TERAZOSIN HCL']\n",
    "    else:\n",
    "        # all cardiology drugs from the online list\n",
    "        card_drugs = generic_drugs[\"GENERIC_NAME\"]\n",
    "        card_drugs = card_drugs.apply(lambda x: str(x).upper())\n",
    "    \n",
    "    # process data\n",
    "    npi_drugs = process_npi_drugs(npi_drugs,card_drugs,Nrand)\n",
    "    if reduce_vars == 1:\n",
    "        npi_proc_counts = process_npi_proc_counts_v2(npi_proc_counts)\n",
    "    else:\n",
    "        npi_proc_counts = process_npi_proc_counts(npi_proc_counts,card_hcpcs,Nrand)\n",
    "    npi_specialty = process_npi_specialty(npi_specialty)\n",
    "    \n",
    "    ##################################################################################################\n",
    "\n",
    "    # merge the datasets to create a final NPI-level dataset\n",
    "\n",
    "    data = npi_specialty.merge(npi_proc_counts, on = \"NPI\", how = \"left\") # only want observations with\n",
    "                                                                          # non-missing specialties\n",
    "    del npi_specialty\n",
    "    del npi_proc_counts\n",
    "\n",
    "    data = data.merge(npi_drugs, on = \"NPI\", how = \"left\")\n",
    "    del npi_drugs\n",
    "\n",
    "    # claim count and line/bene variables should all be set to zero if they are missing\n",
    "    data.fillna(0,inplace=True)\n",
    "\n",
    "    # turn the NPI variable into an index.  The value of the NPI contains no information so it should \n",
    "    # not be used as a feature/variable in any model.\n",
    "    data.set_index(\"NPI\",inplace=True)\n",
    "\n",
    "    # create binary indicator for cardiologist\n",
    "    bool_series = data[\"specialty\"] == \"CARDIOLOGY\"\n",
    "    class_labels = bool_series.astype('int')\n",
    "    data.drop(columns=[\"specialty\"],inplace=True)\n",
    "    \n",
    "    # standardize column names\n",
    "    data.columns = data.columns.str.replace(\" \",\"_\")\n",
    "    \n",
    "    return data, class_labels"
   ]
  },
  {
   "cell_type": "markdown",
   "metadata": {},
   "source": [
    "## Step 2. Create training, and test datasets"
   ]
  },
  {
   "cell_type": "markdown",
   "metadata": {},
   "source": [
    "###  A. Start off by trying a boosted decision tree.  Boosted decision trees tend to perform well for problems with structured data like this.  In addition, they are resistant to data with many irrelvant variables (as we have here) and can help generate interactions terms which could be important in this problem (i.e. cardiologists might be best identified as specialists who prescribe multiple drugs frequently).  "
   ]
  },
  {
   "cell_type": "code",
   "execution_count": 37,
   "metadata": {},
   "outputs": [
    {
     "name": "stdout",
     "output_type": "stream",
     "text": [
      "            01500  01830  15277  15756  25560  26418  26992  27001  27640  \\\n",
      "NPI                                                                         \n",
      "1003000126    0.0    0.0    0.0    0.0    0.0    0.0    0.0    0.0    0.0   \n",
      "1003000134    0.0    0.0    0.0    0.0    0.0    0.0    0.0    0.0    0.0   \n",
      "1003000142    0.0    0.0    0.0    0.0    0.0    0.0    0.0    0.0    0.0   \n",
      "1003000407    0.0    0.0    0.0    0.0    0.0    0.0    0.0    0.0    0.0   \n",
      "1003000423    0.0    0.0    0.0    0.0    0.0    0.0    0.0    0.0    0.0   \n",
      "\n",
      "            28100       ...         TREPROSTINIL_SODIUM  TRIAMTERENE  \\\n",
      "NPI                     ...                                            \n",
      "1003000126    0.0       ...                         0.0          0.0   \n",
      "1003000134    0.0       ...                         0.0          0.0   \n",
      "1003000142    0.0       ...                         0.0          0.0   \n",
      "1003000407    0.0       ...                         0.0          0.0   \n",
      "1003000423    0.0       ...                         0.0          0.0   \n",
      "\n",
      "            TRIFLUOPERAZINE_HCL  TROPICAMIDE  URSODIOL  VALSARTAN  \\\n",
      "NPI                                                                 \n",
      "1003000126                  0.0          0.0       0.0        0.0   \n",
      "1003000134                  0.0          0.0       0.0        0.0   \n",
      "1003000142                  0.0          0.0       0.0        0.0   \n",
      "1003000407                  0.0          0.0       0.0        0.0   \n",
      "1003000423                  0.0          0.0       0.0        0.0   \n",
      "\n",
      "            VERAPAMIL_HCL  VIT_B_CPLX_#11/FA/C/BIOT/ZN_OX  \\\n",
      "NPI                                                         \n",
      "1003000126            0.0                             0.0   \n",
      "1003000134            0.0                             0.0   \n",
      "1003000142            0.0                             0.0   \n",
      "1003000407            0.0                             0.0   \n",
      "1003000423            0.0                             0.0   \n",
      "\n",
      "            ZIPRASIDONE_MESYLATE  ZOLEDRONIC_ACID  \n",
      "NPI                                                \n",
      "1003000126                   0.0              0.0  \n",
      "1003000134                   0.0              0.0  \n",
      "1003000142                   0.0              0.0  \n",
      "1003000407                   0.0              0.0  \n",
      "1003000423                   0.0              0.0  \n",
      "\n",
      "[5 rows x 290 columns]\n",
      "(909605, 290)\n"
     ]
    }
   ],
   "source": [
    "from sklearn.model_selection import train_test_split\n",
    "\n",
    "# obtain model with random variables\n",
    "data, class_labels = get_and_clean_data(Nrand=100,reduce_vars=0)\n",
    "print(data.head())\n",
    "print(data.shape)\n",
    "\n",
    "# create train and test datasets\n",
    "X_train, X_test, y_train, y_test = train_test_split(data, class_labels, test_size=0.2, random_state=11)"
   ]
  },
  {
   "cell_type": "code",
   "execution_count": 51,
   "metadata": {},
   "outputs": [
    {
     "name": "stdout",
     "output_type": "stream",
     "text": [
      "train accuracy:  0.9933542581670065\n",
      "test accuracy:  0.9935191649122421\n",
      "all features used:  Index(['929', '930', '932', '933', '934', '935', '936', '937', '938', '939',\n",
      "       'AMLODIPINE_BESYLATE', 'ATORVASTATIN_CALCIUM',\n",
      "       'BECLOMETHASONE_DIPROPIONATE', 'CARVEDILOL', 'CEPHALEXIN',\n",
      "       'CLONIDINE_HCL', 'DESVENLAFAXINE_SUCCINATE', 'DIGOXIN', 'DOFETILIDE',\n",
      "       'DOXAZOSIN_MESYLATE', 'EPLERENONE', 'FESOTERODINE_FUMARATE',\n",
      "       'FLECAINIDE_ACETATE', 'FUROSEMIDE', 'GEMFIBROZIL',\n",
      "       'HYDROCHLOROTHIAZIDE', 'LEVETIRACETAM', 'LISINOPRIL', 'LOVASTATIN',\n",
      "       'METOPROLOL_SUCCINATE', 'NITROGLYCERIN', 'PROPAFENONE_HCL',\n",
      "       'PROPRANOLOL_HCL', 'RIVASTIGMINE_TARTRATE', 'SIMVASTATIN',\n",
      "       'TERAZOSIN_HCL'],\n",
      "      dtype='object')\n",
      "most important features used:  Index(['929', '930', '932', '933', '934', '935', '936', '937', '938', '939',\n",
      "       'AMLODIPINE_BESYLATE', 'ATORVASTATIN_CALCIUM',\n",
      "       'BECLOMETHASONE_DIPROPIONATE', 'CARVEDILOL', 'CEPHALEXIN',\n",
      "       'CLONIDINE_HCL', 'DESVENLAFAXINE_SUCCINATE', 'DIGOXIN',\n",
      "       'DOXAZOSIN_MESYLATE', 'EPLERENONE', 'FESOTERODINE_FUMARATE',\n",
      "       'FLECAINIDE_ACETATE', 'GEMFIBROZIL', 'HYDROCHLOROTHIAZIDE',\n",
      "       'LEVETIRACETAM', 'LISINOPRIL', 'LOVASTATIN', 'METOPROLOL_SUCCINATE',\n",
      "       'NITROGLYCERIN', 'PROPRANOLOL_HCL', 'RIVASTIGMINE_TARTRATE',\n",
      "       'SIMVASTATIN', 'TERAZOSIN_HCL'],\n",
      "      dtype='object')\n",
      "confusion matrix:\n",
      "[[177144    407]\n",
      " [   772   3598]]\n",
      "true positive rate:  0.8233409610983982\n",
      "true negative rate:  0.9977077008859426\n"
     ]
    }
   ],
   "source": [
    "from xgboost import XGBClassifier\n",
    "from sklearn.model_selection import KFold\n",
    "from sklearn.model_selection import cross_val_score\n",
    "from sklearn.model_selection import cross_val_predict\n",
    "from sklearn.metrics import accuracy_score\n",
    "from sklearn.metrics import confusion_matrix\n",
    "import numpy as np\n",
    "\n",
    "# ignore depreciation warnings\n",
    "warnings.filterwarnings(module='sklearn*', action='ignore', category=DeprecationWarning)\n",
    "\n",
    "# fit the baseline model, just use default parameters\n",
    "model = XGBClassifier()  \n",
    "model.fit(X_train,y_train)\n",
    "\n",
    "# make predictions for train data\n",
    "y_pred = model.predict(X_train)\n",
    "predictions = [round(value) for value in y_pred]\n",
    "accuracy = accuracy_score(y_train, predictions)\n",
    "print(\"train accuracy: \", accuracy)        \n",
    "\n",
    "# make predictions for test data\n",
    "y_pred = model.predict(X_test)\n",
    "predictions = [round(value) for value in y_pred]\n",
    "accuracy = accuracy_score(y_test, predictions)\n",
    "print(\"test accuracy: \", accuracy)\n",
    "\n",
    "# feature importance\n",
    "cols=X_test.columns\n",
    "print(\"all features used: \",cols[model.feature_importances_ > 0])\n",
    "print(\"most important features used: \",cols[model.feature_importances_ > 0.005])\n",
    "\n",
    "# confusion matrix\n",
    "print(\"confusion matrix:\")\n",
    "print(confusion_matrix(y_test, (y_pred>0.5)))\n",
    "tn, fp, fn, tp = confusion_matrix(y_test, (y_pred>0.5)).ravel()\n",
    "print(\"true positive rate: \",tp/(tp+fn)) # (out of actual caridiologists, fraction the model \n",
    "                                         # identifies)\n",
    "print(\"true negative rate: \",tn/(tn+fp)) # (out of actual non-caridiologists, fraction the model \n",
    "                                         # identifies)"
   ]
  },
  {
   "cell_type": "code",
   "execution_count": 52,
   "metadata": {},
   "outputs": [
    {
     "data": {
      "text/plain": [
       "0.9759785841106854"
      ]
     },
     "execution_count": 52,
     "metadata": {},
     "output_type": "execute_result"
    }
   ],
   "source": [
    "# prediction accuracy if alway predict not a cardiologist\n",
    "1-sum(y_test)/len(y_test)"
   ]
  },
  {
   "cell_type": "markdown",
   "metadata": {},
   "source": [
    "### This model was slow to train (~ 20 min) and the results were not that impressive:\n",
    "* 98.9% accurate on the test set whereas a model predicting that all physicians are not cardiologists would be correct 97.6% of the time.\n",
    "* The true positive rate was only 67%, so out of all cardiologists, only 67% were correctly identified.\n",
    "\n",
    "### The model also did not use many of the features.  To try to improve model performance, I will use the important variables identified in this model to reduce the number of generic drug features.  (I added this to the processing function above).  I will also aggregate the data for the HCPCS codes by their first three digits. "
   ]
  },
  {
   "cell_type": "markdown",
   "metadata": {},
   "source": [
    "### B. Run boosted decision tree using less features.  Add cross validation to optimize over some of the model parameters."
   ]
  },
  {
   "cell_type": "code",
   "execution_count": 53,
   "metadata": {},
   "outputs": [
    {
     "name": "stdout",
     "output_type": "stream",
     "text": [
      "            929  930  932  933  934  935  936  937  938  939      ...        \\\n",
      "NPI                                                               ...         \n",
      "1003000126  0.0  0.0  0.0  0.0  0.0  0.0  0.0  0.0  0.0  0.0      ...         \n",
      "1003000134  0.0  0.0  0.0  0.0  0.0  0.0  0.0  0.0  0.0  0.0      ...         \n",
      "1003000142  0.0  0.0  0.0  0.0  0.0  0.0  0.0  0.0  0.0  0.0      ...         \n",
      "1003000407  0.0  0.0  0.0  0.0  0.0  0.0  0.0  0.0  0.0  0.0      ...         \n",
      "1003000423  0.0  0.0  0.0  0.0  0.0  0.0  0.0  0.0  0.0  0.0      ...         \n",
      "\n",
      "            LISINOPRIL  LOVASTATIN  METOPROLOL_SUCCINATE  METOPROLOL_TARTRATE  \\\n",
      "NPI                                                                             \n",
      "1003000126        19.0         0.0                   0.0                 30.0   \n",
      "1003000134         0.0         0.0                   0.0                  0.0   \n",
      "1003000142         0.0         0.0                   0.0                  0.0   \n",
      "1003000407        11.0         0.0                   0.0                 17.0   \n",
      "1003000423         0.0         0.0                   0.0                  0.0   \n",
      "\n",
      "            NITROGLYCERIN  PROPAFENONE_HCL  PROPRANOLOL_HCL  \\\n",
      "NPI                                                           \n",
      "1003000126            0.0              0.0              0.0   \n",
      "1003000134            0.0              0.0              0.0   \n",
      "1003000142            0.0              0.0              0.0   \n",
      "1003000407            0.0              0.0              0.0   \n",
      "1003000423            0.0              0.0              0.0   \n",
      "\n",
      "            RIVASTIGMINE_TARTRATE  SIMVASTATIN  TERAZOSIN_HCL  \n",
      "NPI                                                            \n",
      "1003000126                    0.0         17.0            0.0  \n",
      "1003000134                    0.0          0.0            0.0  \n",
      "1003000142                    0.0          0.0            0.0  \n",
      "1003000407                    0.0          0.0            0.0  \n",
      "1003000423                    0.0          0.0            0.0  \n",
      "\n",
      "[5 rows x 37 columns]\n",
      "(909605, 37)\n"
     ]
    }
   ],
   "source": [
    "# obtain model with smaller number of variables\n",
    "data, class_labels = get_and_clean_data(Nrand=0,reduce_vars=1)\n",
    "print(data.head())\n",
    "print(data.shape)\n",
    "\n",
    "# create train and test datasets\n",
    "X_train, X_test, y_train, y_test = train_test_split(data, class_labels, test_size=0.2, random_state=11)"
   ]
  },
  {
   "cell_type": "code",
   "execution_count": 54,
   "metadata": {},
   "outputs": [
    {
     "name": "stdout",
     "output_type": "stream",
     "text": [
      "0.024933899879618075\n"
     ]
    }
   ],
   "source": [
    "print(sum(y_train)/len(y_train)) # fraction of training data that are cardiologists"
   ]
  },
  {
   "cell_type": "code",
   "execution_count": 123,
   "metadata": {},
   "outputs": [
    {
     "name": "stdout",
     "output_type": "stream",
     "text": [
      "depth = 1, scale_pos_weights = 1\n",
      "CV accuracy:  0.9911170233478274  +/-  0.0001201623324409229\n",
      "CV true positive rate:  0.7366638338516559  +/-  0.004886496930875254\n",
      "train accuracy:  0.9911348882207112\n",
      "test accuracy:  0.9914578305967975\n",
      "most important features:  Index(['930', '932', '933', '934', 'CARVEDILOL', 'CEPHALEXIN', 'LEVETIRACETAM',\n",
      "       'NITROGLYCERIN'],\n",
      "      dtype='object')\n",
      "Evaluated on the test set:\n",
      "confusion matrix:\n",
      "[[177151    400]\n",
      " [  1154   3216]]\n",
      "true positive rate:  0.7359267734553776\n",
      "true negative rate:  0.9977471261778306\n",
      "precision:  0.8893805309734514\n",
      "-------------------------------------------------------\n",
      "depth = 1, scale_pos_weights = 100\n",
      "CV accuracy:  0.9550532937944712  +/-  0.0019456626790053774\n",
      "CV true positive rate:  0.9513246939685912  +/-  0.005451388475770244\n",
      "train accuracy:  0.9553982223052864\n",
      "test accuracy:  0.9557610171448047\n",
      "most important features:  Index(['930', '932', '933', '934', 'CARVEDILOL', 'CEPHALEXIN'], dtype='object')\n",
      "Evaluated on the test set:\n",
      "confusion matrix:\n",
      "[[169711   7840]\n",
      " [   208   4162]]\n",
      "true positive rate:  0.9524027459954233\n",
      "true negative rate:  0.9558436730854797\n",
      "precision:  0.3467755374104316\n",
      "-------------------------------------------------------\n",
      "depth = 3, scale_pos_weights = 1\n",
      "CV accuracy:  0.9931027753125107  +/-  0.00010053929375379831\n",
      "CV true positive rate:  0.8207720913899076  +/-  0.0038989193057771534\n",
      "train accuracy:  0.9933542581670065\n",
      "test accuracy:  0.9935191649122421\n",
      "most important features:  Index(['930', '932', '933', '934', 'CEPHALEXIN'], dtype='object')\n",
      "Evaluated on the test set:\n",
      "confusion matrix:\n",
      "[[177144    407]\n",
      " [   772   3598]]\n",
      "true positive rate:  0.8233409610983982\n",
      "true negative rate:  0.9977077008859426\n",
      "precision:  0.8983770287141074\n",
      "-------------------------------------------------------\n",
      "depth = 3, scale_pos_weights = 100\n",
      "CV accuracy:  0.9691500705272956  +/-  0.00021431523106160764\n",
      "CV true positive rate:  0.9611392069298553  +/-  0.0029865831653469043\n",
      "train accuracy:  0.9683310338003859\n",
      "test accuracy:  0.968700699754289\n",
      "most important features:  Index(['930', '932', '933', '934', 'CEPHALEXIN', 'LEVETIRACETAM'], dtype='object')\n",
      "Evaluated on the test set:\n",
      "confusion matrix:\n",
      "[[172014   5537]\n",
      " [   157   4213]]\n",
      "true positive rate:  0.9640732265446225\n",
      "true negative rate:  0.96881459411662\n",
      "precision:  0.4321025641025641\n",
      "-------------------------------------------------------\n",
      "depth = 5, scale_pos_weights = 1\n",
      "CV accuracy:  0.993549397811734  +/-  8.75417404596969e-05\n",
      "CV true positive rate:  0.8352662074862733  +/-  0.0038311701819757284\n",
      "train accuracy:  0.9940977127434436\n",
      "test accuracy:  0.993821493945174\n",
      "most important features:  Index(['930', '932', '933', 'METOPROLOL_SUCCINATE'], dtype='object')\n",
      "Evaluated on the test set:\n",
      "confusion matrix:\n",
      "[[177167    384]\n",
      " [   740   3630]]\n",
      "true positive rate:  0.8306636155606407\n",
      "true negative rate:  0.9978372411307174\n",
      "precision:  0.9043348281016442\n",
      "-------------------------------------------------------\n",
      "depth = 5, scale_pos_weights = 100\n",
      "CV accuracy:  0.9733813040420974  +/-  0.0006085255866175738\n",
      "CV true positive rate:  0.9615785596656732  +/-  0.00388080221261984\n",
      "train accuracy:  0.9732961010548535\n",
      "test accuracy:  0.973570945630246\n",
      "most important features:  Index(['930', '932', '933', 'CEPHALEXIN', 'METOPROLOL_SUCCINATE'], dtype='object')\n",
      "Evaluated on the test set:\n",
      "confusion matrix:\n",
      "[[172898   4653]\n",
      " [   155   4215]]\n",
      "true positive rate:  0.9645308924485125\n",
      "true negative rate:  0.9737934452636144\n",
      "precision:  0.4753044654939107\n",
      "-------------------------------------------------------\n",
      "all CV accuracies: \n",
      "[[0.99111702 0.95505329]\n",
      " [0.99310278 0.96915007]\n",
      " [0.9935494  0.9733813 ]]\n",
      "all CV accuracy standard deviations: \n",
      "[[1.20162332e-04 1.94566268e-03]\n",
      " [1.00539294e-04 2.14315231e-04]\n",
      " [8.75417405e-05 6.08525587e-04]]\n",
      "all CV true positive rates\n",
      "[[0.73666383 0.95132469]\n",
      " [0.82077209 0.96113921]\n",
      " [0.83526621 0.96157856]]\n",
      "all CV true positive rate standard deviations: \n",
      "[[0.0048865  0.00545139]\n",
      " [0.00389892 0.00298658]\n",
      " [0.00383117 0.0038808 ]]\n"
     ]
    }
   ],
   "source": [
    "# parameters to optimize over\n",
    "depths = [1,3,5] # tree size\n",
    "#etas = [0.05,0.1,0.2] # learning rate\n",
    "scale_pos_weights = [1,100] # should be set larger than 1 for imbalanced data\n",
    "\n",
    "accuracies = np.zeros((len(depths),len(scale_pos_weights)))\n",
    "accuracy_stdevs = np.zeros((len(depths),len(scale_pos_weights)))\n",
    "tp_rates = np.zeros((len(depths),len(scale_pos_weights)))\n",
    "tp_rate_stdevs = np.zeros((len(depths),len(scale_pos_weights)))\n",
    "di = 0\n",
    "train_vals = y_train.reset_index()['specialty']\n",
    "\n",
    "# loop over parameters\n",
    "for d in depths:\n",
    "    si = 0\n",
    "    for s in scale_pos_weights:\n",
    "        \n",
    "        print(\"depth = \"+str(d)+\", scale_pos_weights = \"+str(s))\n",
    "        \n",
    "        # fit the model\n",
    "        model = XGBClassifier(max_depth=d,\n",
    "                              scale_pos_weight=s)  \n",
    "        model.fit(X_train,y_train)\n",
    "        \n",
    "        # CV errors\n",
    "        kfold = KFold(n_splits=3, random_state=3)\n",
    "        results = cross_val_score(model, X_train, y_train, cv=kfold)\n",
    "        accuracies[di,si] = results.mean()\n",
    "        accuracy_stdevs[di,si] = results.std()\n",
    "        print(\"CV accuracy: \",results.mean(),\" +/- \",results.std())\n",
    "        \n",
    "        # true positive rates on CV datasets\n",
    "        cv_preds_all = cross_val_predict(model, X_train, y_train, cv=kfold)\n",
    "        tp_rate_cv = []\n",
    "        for train_idx, test_idx in kfold.split(X_train):\n",
    "            cv_actuals = train_vals[test_idx]\n",
    "            cv_actuals = cv_actuals.reset_index()['specialty']\n",
    "            cv_preds = cv_preds_all[test_idx]\n",
    "            cv_tp = sum([1 for i in range(len(cv_preds)) if cv_preds[i] == 1 and cv_actuals[i] == 1])\n",
    "            cv_fn = sum([1 for i in range(len(cv_preds)) if cv_preds[i] == 0 and cv_actuals[i] == 1])\n",
    "            tp_rate_cv.append(cv_tp / (cv_tp + cv_fn))\n",
    "        tp_rates[di,si] = np.mean(tp_rate_cv)\n",
    "        tp_rate_stdevs[di,si] = np.std(tp_rate_cv)\n",
    "        print(\"CV true positive rate: \",tp_rates[di,si],\" +/- \",tp_rate_stdevs[di,si])\n",
    "        \n",
    "        # make predictions for train data\n",
    "        y_pred = model.predict(X_train)\n",
    "        predictions = [round(value) for value in y_pred]\n",
    "        accuracy = accuracy_score(y_train, predictions)\n",
    "        print(\"train accuracy: \", accuracy)        \n",
    "        \n",
    "        # make predictions for test data\n",
    "        y_pred = model.predict(X_test)\n",
    "        predictions = [round(value) for value in y_pred]\n",
    "        accuracy = accuracy_score(y_test, predictions)\n",
    "        print(\"test accuracy: \", accuracy)\n",
    "        \n",
    "        # feature importance\n",
    "        cols=X_test.columns\n",
    "        print(\"most important features: \",cols[model.feature_importances_ >= 0.05])\n",
    "        \n",
    "        # confusion matrix\n",
    "        print('Evaluated on the test set:')\n",
    "        print(\"confusion matrix:\")\n",
    "        print(confusion_matrix(y_test, (y_pred>0.5)))\n",
    "        tn, fp, fn, tp = confusion_matrix(y_test, (y_pred>0.5)).ravel()\n",
    "        print(\"true positive rate: \",tp/(tp+fn)) # out of actual caridiologists, fraction the model \n",
    "                                                 # identifies, AKA recall\n",
    "        print(\"true negative rate: \",tn/(tn+fp)) # out of actual non-caridiologists, fraction the model \n",
    "                                                 # identifies\n",
    "        print(\"precision: \",tp/(tp+fp)) # out of all predicted cardiologists, fraction which actually\n",
    "                                        # are cardiologistis\n",
    "        print(\"-------------------------------------------------------\")\n",
    "        \n",
    "        si += 1\n",
    "    di += 1\n",
    "\n",
    "print(\"all CV accuracies: \")\n",
    "print(accuracies)\n",
    "print(\"all CV accuracy standard deviations: \")\n",
    "print(accuracy_stdevs)\n",
    "\n",
    "print(\"all CV true positive rates\")\n",
    "print(tp_rates)\n",
    "print(\"all CV true positive rate standard deviations: \")\n",
    "print(tp_rate_stdevs)"
   ]
  },
  {
   "cell_type": "markdown",
   "metadata": {},
   "source": [
    "### The model that has the best *true positive rate* (96.2%) on the CV dataset has tree depth = 5  and weighting for positive observations =  100.  Choosing the model based on the true positive rate would be important if we were trying to identify all of the actual cardiologists more so than accurately identifying all of the non-cardiologists.  This model has a true positive rate of 96.5% on the test set.  The most important features were lines/bene for HCPCS beginning with '930', '932', '933', and the number of claims for generic drug 'CEPHALEXIN' (an oral antibiotic).  The accuracy was 97.4% and the precision was 47.5%.  Since models with tree depth > 1 performed better, this indicates that interactions between the features are important."
   ]
  },
  {
   "cell_type": "markdown",
   "metadata": {},
   "source": [
    "### The model that has the best *accuracy* (99.4%) on the CV dataset has tree depth = 5  and weighting for positive observations =  1.  This model is 99.4% accurate on the test set.  The most important features were lines/bene for HCPCS beginning with '930', '932', '933', and the number of claims for generic drug 'METOPROLOL_SUCCINATE' (treats high blood pressure).  The true positive rate/recall was 83.1% and the precision was 90.4%.  (Note that the best true positive rate (96.5%) was obtained with tree depth = 5 and weighting for positive observations = 100, with a lower total test accuracy of 97.4% and lower precision of 47.5%).  \n",
    "\n",
    "### To get some intuition about the model with the best overall accuracy, we can look at a plot of the feature importance values as well as plotting the first tree that gets built in the boosted model."
   ]
  },
  {
   "cell_type": "code",
   "execution_count": 43,
   "metadata": {},
   "outputs": [
    {
     "data": {
      "text/plain": [
       "XGBClassifier(base_score=0.5, booster='gbtree', colsample_bylevel=1,\n",
       "       colsample_bytree=1, gamma=0, learning_rate=0.1, max_delta_step=0,\n",
       "       max_depth=5, min_child_weight=1, missing=None, n_estimators=100,\n",
       "       n_jobs=1, nthread=None, objective='binary:logistic', random_state=0,\n",
       "       reg_alpha=0, reg_lambda=1, scale_pos_weight=1, seed=None,\n",
       "       silent=True, subsample=1)"
      ]
     },
     "execution_count": 43,
     "metadata": {},
     "output_type": "execute_result"
    }
   ],
   "source": [
    "# most overall accurate model\n",
    "d = 5\n",
    "s = 1\n",
    "model5 = XGBClassifier(max_depth=d,\n",
    "                      scale_pos_weight=s)  \n",
    "model5.fit(X_train,y_train)"
   ]
  },
  {
   "cell_type": "code",
   "execution_count": 44,
   "metadata": {
    "scrolled": true
   },
   "outputs": [
    {
     "data": {
      "image/png": "[encoded data removed]",
      "text/plain": [
       "<Figure size 432x288 with 1 Axes>"
      ]
     },
     "metadata": {},
     "output_type": "display_data"
    }
   ],
   "source": [
    "from matplotlib import pyplot as plt\n",
    "from xgboost import plot_tree\n",
    "\n",
    "cols=X_test.columns\n",
    "plt.bar(cols, model5.feature_importances_,width=1.5)\n",
    "plt.xticks(cols, rotation='vertical')\n",
    "plt.ylabel(\"feature importance\")\n",
    "plt.title(\"Feature importance for most accurate boosted tree\")\n",
    "plt.show()"
   ]
  },
  {
   "cell_type": "code",
   "execution_count": 45,
   "metadata": {},
   "outputs": [
    {
     "data": {
      "text/plain": [
       "XGBClassifier(base_score=0.5, booster='gbtree', colsample_bylevel=1,\n",
       "       colsample_bytree=1, gamma=0, learning_rate=0.1, max_delta_step=0,\n",
       "       max_depth=3, min_child_weight=1, missing=None, n_estimators=100,\n",
       "       n_jobs=1, nthread=None, objective='binary:logistic', random_state=0,\n",
       "       reg_alpha=0, reg_lambda=1, scale_pos_weight=1, seed=None,\n",
       "       silent=True, subsample=1)"
      ]
     },
     "execution_count": 45,
     "metadata": {},
     "output_type": "execute_result"
    }
   ],
   "source": [
    "# model with tree depth of 3 (not most accurate, but easier to visualize and follow) \n",
    "d = 3\n",
    "s = 1\n",
    "model3 = XGBClassifier(max_depth=d,\n",
    "                       scale_pos_weight=s)  \n",
    "model3.fit(X_train,y_train)"
   ]
  },
  {
   "cell_type": "code",
   "execution_count": 46,
   "metadata": {},
   "outputs": [
    {
     "data": {
      "image/svg+xml": [
       "<?xml version=\"1.0\" encoding=\"UTF-8\" standalone=\"no\"?>\r\n",
       "<!DOCTYPE svg PUBLIC \"-//W3C//DTD SVG 1.1//EN\"\r\n",
       " \"http://www.w3.org/Graphics/SVG/1.1/DTD/svg11.dtd\">\r\n",
       "<!-- Generated by graphviz version 2.38.0 (20140413.2041)\r\n",
       " -->\r\n",
       "<!-- Title: %3 Pages: 1 -->\r\n",
       "<svg width=\"1087pt\" height=\"718pt\"\r\n",
       " viewBox=\"0.00 0.00 1086.50 718.25\" xmlns=\"http://www.w3.org/2000/svg\" xmlns:xlink=\"http://www.w3.org/1999/xlink\">\r\n",
       "<g id=\"graph0\" class=\"graph\" transform=\"scale(1 1) rotate(0) translate(4 714.254)\">\r\n",
       "<title>%3</title>\r\n",
       "<polygon fill=\"white\" stroke=\"none\" points=\"-4,4 -4,-714.254 1082.5,-714.254 1082.5,4 -4,4\"/>\r\n",
       "<!-- 0 -->\r\n",
       "<g id=\"node1\" class=\"node\"><title>0</title>\r\n",
       "<ellipse fill=\"none\" stroke=\"black\" cx=\"564\" cy=\"-638.76\" rx=\"71.4873\" ry=\"71.4873\"/>\r\n",
       "<text text-anchor=\"middle\" x=\"564\" y=\"-635.06\" font-family=\"Times New Roman,serif\" font-size=\"14.00\">933&lt;1.00046992</text>\r\n",
       "</g>\r\n",
       "<!-- 1 -->\r\n",
       "<g id=\"node2\" class=\"node\"><title>1</title>\r\n",
       "<ellipse fill=\"none\" stroke=\"black\" cx=\"417\" cy=\"-475.97\" rx=\"40.0939\" ry=\"40.0939\"/>\r\n",
       "<text text-anchor=\"middle\" x=\"417\" y=\"-472.27\" font-family=\"Times New Roman,serif\" font-size=\"14.00\">934&lt;0.5</text>\r\n",
       "</g>\r\n",
       "<!-- 0&#45;&gt;1 -->\r\n",
       "<g id=\"edge1\" class=\"edge\"><title>0&#45;&gt;1</title>\r\n",
       "<path fill=\"none\" stroke=\"#0000ff\" d=\"M515.867,-585.111C494.538,-561.782 469.962,-534.9 450.648,-513.774\"/>\r\n",
       "<polygon fill=\"#0000ff\" stroke=\"#0000ff\" points=\"453.116,-511.287 443.786,-506.269 447.95,-516.011 453.116,-511.287\"/>\r\n",
       "<text text-anchor=\"middle\" x=\"516.5\" y=\"-538.066\" font-family=\"Times New Roman,serif\" font-size=\"14.00\">yes, missing</text>\r\n",
       "</g>\r\n",
       "<!-- 2 -->\r\n",
       "<g id=\"node3\" class=\"node\"><title>2</title>\r\n",
       "<ellipse fill=\"none\" stroke=\"black\" cx=\"671\" cy=\"-475.97\" rx=\"40.0939\" ry=\"40.0939\"/>\r\n",
       "<text text-anchor=\"middle\" x=\"671\" y=\"-472.27\" font-family=\"Times New Roman,serif\" font-size=\"14.00\">932&lt;0.5</text>\r\n",
       "</g>\r\n",
       "<!-- 0&#45;&gt;2 -->\r\n",
       "<g id=\"edge2\" class=\"edge\"><title>0&#45;&gt;2</title>\r\n",
       "<path fill=\"none\" stroke=\"#ff0000\" d=\"M603.235,-578.801C616.459,-558.929 630.938,-537.171 643.105,-518.888\"/>\r\n",
       "<polygon fill=\"#ff0000\" stroke=\"#ff0000\" points=\"646.25,-520.48 648.876,-510.216 640.422,-516.602 646.25,-520.48\"/>\r\n",
       "<text text-anchor=\"middle\" x=\"638.5\" y=\"-538.066\" font-family=\"Times New Roman,serif\" font-size=\"14.00\">no</text>\r\n",
       "</g>\r\n",
       "<!-- 3 -->\r\n",
       "<g id=\"node4\" class=\"node\"><title>3</title>\r\n",
       "<ellipse fill=\"none\" stroke=\"black\" cx=\"202\" cy=\"-235.837\" rx=\"40.0939\" ry=\"40.0939\"/>\r\n",
       "<text text-anchor=\"middle\" x=\"202\" y=\"-232.137\" font-family=\"Times New Roman,serif\" font-size=\"14.00\">932&lt;0.5</text>\r\n",
       "</g>\r\n",
       "<!-- 1&#45;&gt;3 -->\r\n",
       "<g id=\"edge3\" class=\"edge\"><title>1&#45;&gt;3</title>\r\n",
       "<path fill=\"none\" stroke=\"#0000ff\" d=\"M379.229,-461.916C343.76,-447.897 291.428,-422.417 259,-384.674 234.656,-356.339 220.099,-316.464 211.797,-285.266\"/>\r\n",
       "<polygon fill=\"#0000ff\" stroke=\"#0000ff\" points=\"215.164,-284.302 209.317,-275.467 208.378,-286.02 215.164,-284.302\"/>\r\n",
       "<text text-anchor=\"middle\" x=\"330.5\" y=\"-406.474\" font-family=\"Times New Roman,serif\" font-size=\"14.00\">yes, missing</text>\r\n",
       "</g>\r\n",
       "<!-- 4 -->\r\n",
       "<g id=\"node5\" class=\"node\"><title>4</title>\r\n",
       "<ellipse fill=\"none\" stroke=\"black\" cx=\"417\" cy=\"-235.837\" rx=\"148.674\" ry=\"148.674\"/>\r\n",
       "<text text-anchor=\"middle\" x=\"417\" y=\"-232.137\" font-family=\"Times New Roman,serif\" font-size=\"14.00\">ATORVASTATIN_CALCIUM&lt;11.5</text>\r\n",
       "</g>\r\n",
       "<!-- 1&#45;&gt;4 -->\r\n",
       "<g id=\"edge4\" class=\"edge\"><title>1&#45;&gt;4</title>\r\n",
       "<path fill=\"none\" stroke=\"#ff0000\" d=\"M417,-435.647C417,-423.733 417,-409.848 417,-395.055\"/>\r\n",
       "<polygon fill=\"#ff0000\" stroke=\"#ff0000\" points=\"420.5,-394.682 417,-384.682 413.5,-394.682 420.5,-394.682\"/>\r\n",
       "<text text-anchor=\"middle\" x=\"424.5\" y=\"-406.474\" font-family=\"Times New Roman,serif\" font-size=\"14.00\">no</text>\r\n",
       "</g>\r\n",
       "<!-- 5 -->\r\n",
       "<g id=\"node10\" class=\"node\"><title>5</title>\r\n",
       "<ellipse fill=\"none\" stroke=\"black\" cx=\"671\" cy=\"-235.837\" rx=\"83.3857\" ry=\"83.3857\"/>\r\n",
       "<text text-anchor=\"middle\" x=\"671\" y=\"-232.137\" font-family=\"Times New Roman,serif\" font-size=\"14.00\">CEPHALEXIN&lt;5.5</text>\r\n",
       "</g>\r\n",
       "<!-- 2&#45;&gt;5 -->\r\n",
       "<g id=\"edge9\" class=\"edge\"><title>2&#45;&gt;5</title>\r\n",
       "<path fill=\"none\" stroke=\"#0000ff\" d=\"M671,-435.647C671,-406.788 671,-366.361 671,-329.492\"/>\r\n",
       "<polygon fill=\"#0000ff\" stroke=\"#0000ff\" points=\"674.5,-329.2 671,-319.2 667.5,-329.2 674.5,-329.2\"/>\r\n",
       "<text text-anchor=\"middle\" x=\"705.5\" y=\"-406.474\" font-family=\"Times New Roman,serif\" font-size=\"14.00\">yes, missing</text>\r\n",
       "</g>\r\n",
       "<!-- 6 -->\r\n",
       "<g id=\"node11\" class=\"node\"><title>6</title>\r\n",
       "<ellipse fill=\"none\" stroke=\"black\" cx=\"879\" cy=\"-235.837\" rx=\"102.882\" ry=\"102.882\"/>\r\n",
       "<text text-anchor=\"middle\" x=\"879\" y=\"-232.137\" font-family=\"Times New Roman,serif\" font-size=\"14.00\">LEVETIRACETAM&lt;5.5</text>\r\n",
       "</g>\r\n",
       "<!-- 2&#45;&gt;6 -->\r\n",
       "<g id=\"edge10\" class=\"edge\"><title>2&#45;&gt;6</title>\r\n",
       "<path fill=\"none\" stroke=\"#ff0000\" d=\"M703.798,-452.147C716.954,-442.268 731.846,-430.125 744,-417.674 769.89,-391.15 795.082,-359.533 816.555,-330.21\"/>\r\n",
       "<polygon fill=\"#ff0000\" stroke=\"#ff0000\" points=\"819.468,-332.155 822.511,-322.006 813.804,-328.042 819.468,-332.155\"/>\r\n",
       "<text text-anchor=\"middle\" x=\"764.5\" y=\"-406.474\" font-family=\"Times New Roman,serif\" font-size=\"14.00\">no</text>\r\n",
       "</g>\r\n",
       "<!-- 7 -->\r\n",
       "<g id=\"node6\" class=\"node\"><title>7</title>\r\n",
       "<polygon fill=\"none\" stroke=\"black\" points=\"120,-36 0,-36 0,-0 120,-0 120,-36\"/>\r\n",
       "<text text-anchor=\"middle\" x=\"60\" y=\"-14.3\" font-family=\"Times New Roman,serif\" font-size=\"14.00\">leaf=&#45;0.198729113</text>\r\n",
       "</g>\r\n",
       "<!-- 3&#45;&gt;7 -->\r\n",
       "<g id=\"edge5\" class=\"edge\"><title>3&#45;&gt;7</title>\r\n",
       "<path fill=\"none\" stroke=\"#0000ff\" d=\"M180.124,-201.585C151.747,-158.453 102.835,-84.1078 77.0493,-44.9145\"/>\r\n",
       "<polygon fill=\"#0000ff\" stroke=\"#0000ff\" points=\"79.7363,-42.6306 71.3161,-36.2002 73.8884,-46.478 79.7363,-42.6306\"/>\r\n",
       "<text text-anchor=\"middle\" x=\"125.5\" y=\"-57.8\" font-family=\"Times New Roman,serif\" font-size=\"14.00\">yes, missing</text>\r\n",
       "</g>\r\n",
       "<!-- 8 -->\r\n",
       "<g id=\"node7\" class=\"node\"><title>8</title>\r\n",
       "<polygon fill=\"none\" stroke=\"black\" points=\"265.5,-36 138.5,-36 138.5,-0 265.5,-0 265.5,-36\"/>\r\n",
       "<text text-anchor=\"middle\" x=\"202\" y=\"-14.3\" font-family=\"Times New Roman,serif\" font-size=\"14.00\">leaf=&#45;0.0824308321</text>\r\n",
       "</g>\r\n",
       "<!-- 3&#45;&gt;8 -->\r\n",
       "<g id=\"edge6\" class=\"edge\"><title>3&#45;&gt;8</title>\r\n",
       "<path fill=\"none\" stroke=\"#ff0000\" d=\"M202,-195.249C202,-152.05 202,-84.0369 202,-46.3791\"/>\r\n",
       "<polygon fill=\"#ff0000\" stroke=\"#ff0000\" points=\"205.5,-46.1676 202,-36.1676 198.5,-46.1677 205.5,-46.1676\"/>\r\n",
       "<text text-anchor=\"middle\" x=\"209.5\" y=\"-57.8\" font-family=\"Times New Roman,serif\" font-size=\"14.00\">no</text>\r\n",
       "</g>\r\n",
       "<!-- 9 -->\r\n",
       "<g id=\"node8\" class=\"node\"><title>9</title>\r\n",
       "<polygon fill=\"none\" stroke=\"black\" points=\"400,-36 284,-36 284,-0 400,-0 400,-36\"/>\r\n",
       "<text text-anchor=\"middle\" x=\"342\" y=\"-14.3\" font-family=\"Times New Roman,serif\" font-size=\"14.00\">leaf=0.121212125</text>\r\n",
       "</g>\r\n",
       "<!-- 4&#45;&gt;9 -->\r\n",
       "<g id=\"edge7\" class=\"edge\"><title>4&#45;&gt;9</title>\r\n",
       "<path fill=\"none\" stroke=\"#0000ff\" d=\"M368.442,-95.096C361.998,-76.5508 356.032,-59.3825 351.405,-46.0647\"/>\r\n",
       "<polygon fill=\"#0000ff\" stroke=\"#0000ff\" points=\"354.585,-44.554 347.996,-36.2569 347.973,-46.8517 354.585,-44.554\"/>\r\n",
       "<text text-anchor=\"middle\" x=\"393.5\" y=\"-57.8\" font-family=\"Times New Roman,serif\" font-size=\"14.00\">yes, missing</text>\r\n",
       "</g>\r\n",
       "<!-- 10 -->\r\n",
       "<g id=\"node9\" class=\"node\"><title>10</title>\r\n",
       "<polygon fill=\"none\" stroke=\"black\" points=\"527.5,-36 418.5,-36 418.5,-0 527.5,-0 527.5,-36\"/>\r\n",
       "<text text-anchor=\"middle\" x=\"473\" y=\"-14.3\" font-family=\"Times New Roman,serif\" font-size=\"14.00\">leaf=0.17909807</text>\r\n",
       "</g>\r\n",
       "<!-- 4&#45;&gt;10 -->\r\n",
       "<g id=\"edge8\" class=\"edge\"><title>4&#45;&gt;10</title>\r\n",
       "<path fill=\"none\" stroke=\"#ff0000\" d=\"M454.197,-91.471C458.634,-74.3681 462.725,-58.6014 465.95,-46.1723\"/>\r\n",
       "<polygon fill=\"#ff0000\" stroke=\"#ff0000\" points=\"469.424,-46.7177 468.548,-36.1592 462.649,-44.9597 469.424,-46.7177\"/>\r\n",
       "<text text-anchor=\"middle\" x=\"471.5\" y=\"-57.8\" font-family=\"Times New Roman,serif\" font-size=\"14.00\">no</text>\r\n",
       "</g>\r\n",
       "<!-- 11 -->\r\n",
       "<g id=\"node12\" class=\"node\"><title>11</title>\r\n",
       "<polygon fill=\"none\" stroke=\"black\" points=\"668,-36 546,-36 546,-0 668,-0 668,-36\"/>\r\n",
       "<text text-anchor=\"middle\" x=\"607\" y=\"-14.3\" font-family=\"Times New Roman,serif\" font-size=\"14.00\">leaf=0.0447633825</text>\r\n",
       "</g>\r\n",
       "<!-- 5&#45;&gt;11 -->\r\n",
       "<g id=\"edge11\" class=\"edge\"><title>5&#45;&gt;11</title>\r\n",
       "<path fill=\"none\" stroke=\"#0000ff\" d=\"M647.532,-155.693C636.081,-117.074 623.057,-73.1508 614.933,-45.7538\"/>\r\n",
       "<polygon fill=\"#0000ff\" stroke=\"#0000ff\" points=\"618.271,-44.7007 612.073,-36.1083 611.56,-46.6907 618.271,-44.7007\"/>\r\n",
       "<text text-anchor=\"middle\" x=\"655.5\" y=\"-57.8\" font-family=\"Times New Roman,serif\" font-size=\"14.00\">yes, missing</text>\r\n",
       "</g>\r\n",
       "<!-- 12 -->\r\n",
       "<g id=\"node13\" class=\"node\"><title>12</title>\r\n",
       "<polygon fill=\"none\" stroke=\"black\" points=\"806,-36 686,-36 686,-0 806,-0 806,-36\"/>\r\n",
       "<text text-anchor=\"middle\" x=\"746\" y=\"-14.3\" font-family=\"Times New Roman,serif\" font-size=\"14.00\">leaf=&#45;0.174151152</text>\r\n",
       "</g>\r\n",
       "<!-- 5&#45;&gt;12 -->\r\n",
       "<g id=\"edge12\" class=\"edge\"><title>5&#45;&gt;12</title>\r\n",
       "<path fill=\"none\" stroke=\"#ff0000\" d=\"M698.077,-156.915C711.545,-118.155 726.962,-73.7876 736.591,-46.0785\"/>\r\n",
       "<polygon fill=\"#ff0000\" stroke=\"#ff0000\" points=\"740.005,-46.9155 739.981,-36.3207 733.393,-44.6178 740.005,-46.9155\"/>\r\n",
       "<text text-anchor=\"middle\" x=\"741.5\" y=\"-57.8\" font-family=\"Times New Roman,serif\" font-size=\"14.00\">no</text>\r\n",
       "</g>\r\n",
       "<!-- 13 -->\r\n",
       "<g id=\"node14\" class=\"node\"><title>13</title>\r\n",
       "<polygon fill=\"none\" stroke=\"black\" points=\"933.5,-36 824.5,-36 824.5,-0 933.5,-0 933.5,-36\"/>\r\n",
       "<text text-anchor=\"middle\" x=\"879\" y=\"-14.3\" font-family=\"Times New Roman,serif\" font-size=\"14.00\">leaf=0.15844205</text>\r\n",
       "</g>\r\n",
       "<!-- 6&#45;&gt;13 -->\r\n",
       "<g id=\"edge13\" class=\"edge\"><title>6&#45;&gt;13</title>\r\n",
       "<path fill=\"none\" stroke=\"#0000ff\" d=\"M879,-132.923C879,-101.176 879,-68.7335 879,-46.6313\"/>\r\n",
       "<polygon fill=\"#0000ff\" stroke=\"#0000ff\" points=\"882.5,-46.3675 879,-36.3676 875.5,-46.3676 882.5,-46.3675\"/>\r\n",
       "<text text-anchor=\"middle\" x=\"913.5\" y=\"-57.8\" font-family=\"Times New Roman,serif\" font-size=\"14.00\">yes, missing</text>\r\n",
       "</g>\r\n",
       "<!-- 14 -->\r\n",
       "<g id=\"node15\" class=\"node\"><title>14</title>\r\n",
       "<polygon fill=\"none\" stroke=\"black\" points=\"1078.5,-36 951.5,-36 951.5,-0 1078.5,-0 1078.5,-36\"/>\r\n",
       "<text text-anchor=\"middle\" x=\"1015\" y=\"-14.3\" font-family=\"Times New Roman,serif\" font-size=\"14.00\">leaf=&#45;0.0455284566</text>\r\n",
       "</g>\r\n",
       "<!-- 6&#45;&gt;14 -->\r\n",
       "<g id=\"edge14\" class=\"edge\"><title>6&#45;&gt;14</title>\r\n",
       "<path fill=\"none\" stroke=\"#ff0000\" d=\"M933.337,-148.602C956.796,-111.372 982.517,-70.5521 998.702,-44.8652\"/>\r\n",
       "<polygon fill=\"#ff0000\" stroke=\"#ff0000\" points=\"1001.84,-46.4474 1004.21,-36.121 995.92,-42.7157 1001.84,-46.4474\"/>\r\n",
       "<text text-anchor=\"middle\" x=\"1000.5\" y=\"-57.8\" font-family=\"Times New Roman,serif\" font-size=\"14.00\">no</text>\r\n",
       "</g>\r\n",
       "</g>\r\n",
       "</svg>\r\n"
      ],
      "text/plain": [
       "<graphviz.dot.Digraph at 0x19609d83cc0>"
      ]
     },
     "execution_count": 46,
     "metadata": {},
     "output_type": "execute_result"
    }
   ],
   "source": [
    "from xgboost import to_graphviz\n",
    "to_graphviz(model3) # leaf node shows raw score for being a cardiologist\n",
    "                    # can convert to probability using the logistic function\n",
    "                    # negative values --> prob of being cardiologist < 50%\n",
    "                    # positive values --> prob of being cardiologist > 50%"
   ]
  },
  {
   "cell_type": "code",
   "execution_count": 47,
   "metadata": {},
   "outputs": [],
   "source": [
    "# dump the model trees\n",
    "model3._Booster.dump_model(\"model3_dump.txt\")"
   ]
  },
  {
   "cell_type": "markdown",
   "metadata": {},
   "source": [
    "#### First tree in the model (copied from model3_dump.txt):\n",
    "\n",
    "booster[0]:\n",
    "\n",
    "0:[933<1.00046992] yes=1,no=2,missing=1\n",
    "\n",
    "\t1:[934<0.5] yes=3,no=4,missing=3\n",
    "\t\t3:[932<0.5] yes=7,no=8,missing=7\n",
    "\t\t\t7:leaf=-0.198729113\n",
    "\t\t\t8:leaf=-0.0824308321\n",
    "\t\t4:[ATORVASTATIN_CALCIUM<11.5] yes=9,no=10,missing=9\n",
    "\t\t\t9:leaf=0.121212125\n",
    "\t\t\t10:leaf=0.17909807\n",
    "\t2:[932<0.5] yes=5,no=6,missing=5\n",
    "\t\t5:[CEPHALEXIN<5.5] yes=11,no=12,missing=11\n",
    "\t\t\t11:leaf=0.0447633825\n",
    "\t\t\t12:leaf=-0.174151152\n",
    "\t\t6:[LEVETIRACETAM<5.5] yes=13,no=14,missing=13\n",
    "\t\t\t13:leaf=0.15844205\n",
    "\t\t\t14:leaf=-0.0455284566"
   ]
  },
  {
   "cell_type": "code",
   "execution_count": 48,
   "metadata": {},
   "outputs": [
    {
     "data": {
      "text/plain": [
       "7     704386\n",
       "13     10805\n",
       "11      5152\n",
       "8       4225\n",
       "10      1393\n",
       "12       909\n",
       "14       488\n",
       "9        326\n",
       "dtype: int64"
      ]
     },
     "execution_count": 48,
     "metadata": {},
     "output_type": "execute_result"
    }
   ],
   "source": [
    "# check where training data ended up\n",
    "terminal_nodes = model3.apply(X_train,ntree_limit=1)\n",
    "pd.Series(terminal_nodes).value_counts() # most cardiologists end up in terminal node 13\n",
    "# terminal node 13 has 933 >= 1, 932 >= 0.5, and Levetiracetam < 13\n",
    "# levetiracetam is a drug for treating seizures that was initially found to be important using the \n",
    "# random variable search approach."
   ]
  },
  {
   "cell_type": "markdown",
   "metadata": {},
   "source": [
    "## Summary"
   ]
  },
  {
   "cell_type": "markdown",
   "metadata": {},
   "source": [
    "### I started off by cleaning the data and determining how to combine the datasets to make a final dataset to run a machine learning algorithm on.  Missing values and duplicated observations were addressed.  I also generated lists of cardiology-related HCPCS codes and created a dataset containing common generic drugs for cardiology based off of a website online.\n",
    "\n",
    "### I first ran a baseline boosted decision tree model using all HCPCS codes that contain \"card\", all generic drugs on the cardiology drug list from online, and some randomly selected HCPCS codes and generic drugs (in case they might be relevant too).  I choose to use boosted decision trees because they are better than other models at handling irrelevant variables.  Boosted decision trees can also be used to learn interaction terms between the features and tend to perform well for problems with unstructured data in general.\n",
    "\n",
    "### Since the first model did not perform very well and was slow to run, I tried aggregating the HCPCS code variables by their first three digits as well as reducing the number of generic drug name variables by restricting to the most important variables found in the baseline model.  I also optimized over a range of values for the tree depth and looked at the effects of changing the weighting for positive observations.\n",
    "\n",
    "### The most accurate model used tree depth = 5 and weight for positive observations = 1.  It was 99.4% accurate with a true positive rate/recall of 83.1% and a precision of 90.4%.  The best models had larger trees indicating that feature interactions are an important for describing the data.  The model with the highest true positive rate used tree depth = 5 and weight for positive observations = 100.  It had a true positive rate of 96.5%, with lower accuracy of 97.4% and lower precision of 47.5%.\n",
    "\n",
    "### The feature importance for the most accurate model (depth = 5) and plot of the first tree for the depth = 3 model show that reporting lines/bene for HCPCS codes beginning with 930, 932, 933, and 934 are important variables to split on.  Following the tree paths it seems more lines/bene for 933 indicate higher likelihoods of being a cardiologist.  Most cardiologists (terminal node 13) are categorized by having lines/bene for HCPCS codes beginning with 933 greater than 1, lines/bene for HCPCS codes beginning with 932 greater than 0.5, and a count of Levetiracetam claims < 13 (note this is a generic drug to treat seizures that was identified as important in the randomized variable search).  Most non-cardiologists (terminal node 7) are categorized by having low values for lines/bene for HCPCS beginning with 933, 934, and 932. "
   ]
  },
  {
   "cell_type": "markdown",
   "metadata": {},
   "source": [
    "## Future directions if I had more time:\n",
    "\n",
    "* Spend more time doing feature selection:\n",
    "    * It seems like grouping the lines/bene for the HCPCS codes was a good method to reduce the number of variables and improve accuracy, so maybe this method could be applied to the claim counts for each generic drug by grouping the drugs into categories.\n",
    "    * Look more at some HCPCS codes that were missed (such as the G-codes identified above and codes which apply to cardiology but it's difficult to tell from the description)\n",
    "    * If I had access to the original claims, I could generate groups of cardiology HCPCS and generic drugs by looking just at the claims from the known cardiologists in the training data.\n",
    "* Look more into which specialties are getting confused with cardiologists in the models:\n",
    "    * If the cardiologists are being confused with cardiac surgeons for example, it might help to include surgery-related features to distinguish these two categories.\n",
    "* Optimize over more xgboost model parameters (e.g. the learning rate and the total number of trees).\n",
    "* Compare different xgboost models using precision-recall curves and F1 scores.\n",
    "* If I could reduce the number of features further, it would be interesting to just focus on those features and use a logistic regression model or SVM to explore the model fits/feature interactions using plots."
   ]
  }
 ],
 "metadata": {
  "kernelspec": {
   "display_name": "Python 3",
   "language": "python",
   "name": "python3"
  },
  "language_info": {
   "codemirror_mode": {
    "name": "ipython",
    "version": 3
   },
   "file_extension": ".py",
   "mimetype": "text/x-python",
   "name": "python",
   "nbconvert_exporter": "python",
   "pygments_lexer": "ipython3",
   "version": "3.6.5"
  }
 },
 "nbformat": 4,
 "nbformat_minor": 2
}
